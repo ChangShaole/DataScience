{
 "cells": [
  {
   "cell_type": "markdown",
   "metadata": {},
   "source": [
    "*Author: Shaole CHANG*  \n",
    "*Date: Nov 19th, 2022*  \n",
    "\n",
    "**What's this?**  \n",
    "&emsp;***A general tutorial of Numpy Library.***\n",
    "---"
   ]
  },
  {
   "cell_type": "code",
   "execution_count": 1,
   "metadata": {},
   "outputs": [],
   "source": [
    "import numpy as np\n",
    "import matplotlib.pyplot as plt\n",
    "from numpy import random\n",
    "import pandas as pd"
   ]
  },
  {
   "cell_type": "markdown",
   "metadata": {},
   "source": [
    "NumPy Arrays: Creating Arrays\n",
    "==="
   ]
  },
  {
   "cell_type": "code",
   "execution_count": 2,
   "metadata": {},
   "outputs": [
    {
     "name": "stdout",
     "output_type": "stream",
     "text": [
      "np.arange(1,10): [1 2 3 4 5 6 7 8 9]\n",
      "np.linspace(0,5,6): [0. 1. 2. 3. 4. 5.]\n",
      "np.zeros(4): [0. 0. 0. 0.]\n",
      "np.zeros(2,3):\n",
      " [[0. 0. 0.]\n",
      " [0. 0. 0.]]\n",
      "np.random.randint(10, 50, size=(2,3)): \n",
      "[[22 27 26]\n",
      " [37 15 21]]\n"
     ]
    }
   ],
   "source": [
    "print('np.arange(1,10): {}'.format(np.arange(1,10)))\n",
    "print('np.linspace(0,5,6): {}'.format(np.linspace(0,5,6)))\n",
    "print('np.zeros(4): {}'.format(np.zeros(4)))\n",
    "print('np.zeros(2,3):\\n {}'.format(np.zeros((2,3))))\n",
    "print('np.random.randint(10, 50, size=(2,3)): \\n{}'.format(np.random.randint(10, 50, size =(2,3))))"
   ]
  },
  {
   "cell_type": "code",
   "execution_count": 3,
   "metadata": {},
   "outputs": [
    {
     "name": "stdout",
     "output_type": "stream",
     "text": [
      "mono_np_array: [1 2 3 4 5]\n",
      "multi_np_array: \n",
      "[[1 2 3]\n",
      " [4 5 6]\n",
      " [7 8 9]]\n"
     ]
    }
   ],
   "source": [
    "mono_list = [1, 2, 3, 4, 5]\n",
    "mono_np_array = np.array(mono_list, dtype=np.int8)\n",
    "print('mono_np_array: {}'.format(mono_np_array))\n",
    "multi_list = [[1, 2, 3], [4, 5, 6], [7, 8, 9]]\n",
    "multi_np_array = np.array(multi_list, dtype=np.int8)\n",
    "print('multi_np_array: \\n{}'.format(multi_np_array))"
   ]
  },
  {
   "cell_type": "code",
   "execution_count": 4,
   "metadata": {},
   "outputs": [
    {
     "name": "stdout",
     "output_type": "stream",
     "text": [
      "multi_np_array.size: 9, multi_np_array.shape: (3, 3)\n",
      "multi_np_array.dtype:int8\n"
     ]
    }
   ],
   "source": [
    "print('multi_np_array.size: {}, multi_np_array.shape: {}'.format(multi_np_array.size, multi_np_array.shape))\n",
    "print('multi_np_array.dtype:{}'.format(multi_np_array.dtype))"
   ]
  },
  {
   "cell_type": "markdown",
   "metadata": {},
   "source": [
    "***np.dtype:***  \n",
    "&emsp;**np.bool_,np.byte, np.short, np.int_, np.single, np.float32, np.double, np.float64 ...**"
   ]
  },
  {
   "cell_type": "markdown",
   "metadata": {},
   "source": [
    "Slicing & Indexes\n",
    "==="
   ]
  },
  {
   "cell_type": "code",
   "execution_count": 5,
   "metadata": {},
   "outputs": [
    {
     "name": "stdout",
     "output_type": "stream",
     "text": [
      "multi_np_array: \n",
      "[[1 2 3]\n",
      " [4 5 6]\n",
      " [7 8 9]]\n",
      "multi_np_array: \n",
      "[[2 1 3]\n",
      " [4 5 6]\n",
      " [7 8 9]]\n"
     ]
    }
   ],
   "source": [
    "print('multi_np_array: \\n{}'.format(multi_np_array))\n",
    "multi_np_array[0,0] = 2\n",
    "multi_np_array.itemset((0,1), 1)\n",
    "print('multi_np_array: \\n{}'.format(multi_np_array))"
   ]
  },
  {
   "cell_type": "code",
   "execution_count": 6,
   "metadata": {},
   "outputs": [
    {
     "name": "stdout",
     "output_type": "stream",
     "text": [
      "multi_np_array[0,1]: 1\n",
      "multi_np_array.item(0,2): 3\n",
      "np.take(multi_np_array, [0,3,6]: [2 4 7]\n"
     ]
    }
   ],
   "source": [
    "print('multi_np_array[0,1]: {}\\nmulti_np_array.item(0,2): {}'.format(multi_np_array[0,1], multi_np_array.item(0,2)))\n",
    "print('np.take(multi_np_array, [0,3,6]: {}'.format(np.take(multi_np_array, [0,3,6])))"
   ]
  },
  {
   "cell_type": "code",
   "execution_count": 7,
   "metadata": {},
   "outputs": [
    {
     "data": {
      "text/plain": [
       "array([[10,  1,  3],\n",
       "       [10,  5,  6],\n",
       "       [10,  8,  9]], dtype=int8)"
      ]
     },
     "execution_count": 7,
     "metadata": {},
     "output_type": "execute_result"
    }
   ],
   "source": [
    "np.put(multi_np_array, [0, 3, 6], [10, 10, 10])\n",
    "multi_np_array"
   ]
  },
  {
   "cell_type": "code",
   "execution_count": 8,
   "metadata": {},
   "outputs": [
    {
     "name": "stdout",
     "output_type": "stream",
     "text": [
      "[1 2 3 4 5]\n",
      "mono_np_array[:5:2]: [1 3 5]\n"
     ]
    }
   ],
   "source": [
    "print(mono_np_array)\n",
    "print(\"mono_np_array[:5:2]: {}\".format(mono_np_array[:5:2]))"
   ]
  },
  {
   "cell_type": "code",
   "execution_count": 9,
   "metadata": {},
   "outputs": [
    {
     "name": "stdout",
     "output_type": "stream",
     "text": [
      "multi_np_array[:,1]: [1 5 8]\n",
      "np_m_array_[::-1]: \n",
      "[[10  8  9]\n",
      " [10  5  6]\n",
      " [10  1  3]]\n",
      "multi_np_array[multi_np_array%2==0]: [10 10  6 10  8]\n",
      "multi_np_array[(multi_np_array>5) & (multi_np_array<10)]: [6 8 9]\n",
      "np.unique(multi_np_array): [ 1  3  5  6  8  9 10]\n"
     ]
    }
   ],
   "source": [
    "print('multi_np_array[:,1]: {}'.format(multi_np_array[:,1]))\n",
    "print('np_m_array_[::-1]: \\n{}'.format(multi_np_array[::-1]))\n",
    "print('multi_np_array[multi_np_array%2==0]: {}'.format(multi_np_array[multi_np_array%2==0]))\n",
    "print('multi_np_array[(multi_np_array>5) & (multi_np_array<10)]: {}'.format(multi_np_array[(multi_np_array>5) & (multi_np_array<10)]))\n",
    "print('np.unique(multi_np_array): {}'.format(np.unique(multi_np_array)))"
   ]
  },
  {
   "cell_type": "markdown",
   "metadata": {},
   "source": [
    "Reshaping Arrays\n",
    "==="
   ]
  },
  {
   "cell_type": "code",
   "execution_count": 10,
   "metadata": {},
   "outputs": [
    {
     "name": "stdout",
     "output_type": "stream",
     "text": [
      "multi_np_array.reshape((1,9)): [[10  1  3 10  5  6 10  8  9]]\n",
      "np.resize(multi_np_array, (2,6)): \n",
      "[[10  1  3 10  5  6]\n",
      " [10  8  9 10  1  3]]\n",
      "multi_np_array.transpose(): \n",
      "[[10 10 10]\n",
      " [ 1  5  8]\n",
      " [ 3  6  9]]\n",
      "multi_np_array: \n",
      "[[10  1  3]\n",
      " [10  5  6]\n",
      " [10  8  9]]\n"
     ]
    }
   ],
   "source": [
    "print('multi_np_array.reshape((1,9)): {}'.format(multi_np_array.reshape((1,9))))\n",
    "print('np.resize(multi_np_array, (2,6)): \\n{}'.format(np.resize(multi_np_array, (2,6))))\n",
    "print('multi_np_array.transpose(): \\n{}'.format(multi_np_array.transpose()))\n",
    "print('multi_np_array: \\n{}'.format(multi_np_array))"
   ]
  },
  {
   "cell_type": "code",
   "execution_count": 11,
   "metadata": {},
   "outputs": [
    {
     "name": "stdout",
     "output_type": "stream",
     "text": [
      "multi_np_array.swapaxes(0,1): \n",
      "[[10 10 10]\n",
      " [ 1  5  8]\n",
      " [ 3  6  9]]\n",
      "multi_np_array.flatten(): [10  1  3 10  5  6 10  8  9]\n",
      "multi_np_array.flatten('F'): [10 10 10  1  5  8  3  6  9]\n",
      "multi_np_array.flatten('K'): [10  1  3 10  5  6 10  8  9]\n",
      "multi_np_array: \n",
      "[[ 1  3 10]\n",
      " [ 5  6 10]\n",
      " [ 8  9 10]]\n"
     ]
    }
   ],
   "source": [
    "print('multi_np_array.swapaxes(0,1): \\n{}'.format(multi_np_array.swapaxes(0,1)))\n",
    "print('multi_np_array.flatten(): {}'.format(multi_np_array.flatten()))\n",
    "print(\"multi_np_array.flatten('F'): {}\".format(multi_np_array.flatten('F')))\n",
    "print(\"multi_np_array.flatten('K'): {}\".format(multi_np_array.flatten('K')))\n",
    "multi_np_array.sort(axis=1)\n",
    "print('multi_np_array: \\n{}'.format(multi_np_array))"
   ]
  },
  {
   "cell_type": "markdown",
   "metadata": {},
   "source": [
    "Stacking & Splitting\n",
    "==="
   ]
  },
  {
   "cell_type": "code",
   "execution_count": 12,
   "metadata": {},
   "outputs": [
    {
     "name": "stdout",
     "output_type": "stream",
     "text": [
      "ss_np_array_1: \n",
      "[[4 1]\n",
      " [8 1]]\n",
      "ss_np_array_2: \n",
      "[[7 4]\n",
      " [3 4]]\n"
     ]
    }
   ],
   "source": [
    "ss_np_array_1 = np.random.randint(10, size =(2,2))\n",
    "print('ss_np_array_1: \\n{}'.format(ss_np_array_1))\n",
    "ss_np_array_2 = np.random.randint(10, size =(2,2))\n",
    "print('ss_np_array_2: \\n{}'.format(ss_np_array_2))"
   ]
  },
  {
   "cell_type": "code",
   "execution_count": 13,
   "metadata": {},
   "outputs": [
    {
     "name": "stdout",
     "output_type": "stream",
     "text": [
      "np.vstack(ss_np_array_1, ss_np_array_2): \n",
      "[[4 1]\n",
      " [8 1]\n",
      " [7 4]\n",
      " [3 4]]\n",
      "np.hstack(ss_np_array_1, ss_np_array_2): \n",
      "[[4 1 7 4]\n",
      " [8 1 3 4]]\n"
     ]
    }
   ],
   "source": [
    "print('np.vstack(ss_np_array_1, ss_np_array_2): \\n{}'.format(np.vstack((ss_np_array_1,ss_np_array_2))))\n",
    "print('np.hstack(ss_np_array_1, ss_np_array_2): \\n{}'.format(np.hstack((ss_np_array_1,ss_np_array_2))))"
   ]
  },
  {
   "cell_type": "code",
   "execution_count": 14,
   "metadata": {},
   "outputs": [
    {
     "name": "stdout",
     "output_type": "stream",
     "text": [
      "ss_np_array_3: [[4 1]]\n",
      "ss_np_array_4: [[7 4]]\n"
     ]
    }
   ],
   "source": [
    "ss_np_array_3 = np.delete(ss_np_array_1, 1, 0)\n",
    "print('ss_np_array_3: {}'.format(ss_np_array_3))\n",
    "ss_np_array_4 = np.delete(ss_np_array_2, 1, 0)\n",
    "print('ss_np_array_4: {}'.format(ss_np_array_4))"
   ]
  },
  {
   "cell_type": "code",
   "execution_count": 15,
   "metadata": {},
   "outputs": [
    {
     "name": "stdout",
     "output_type": "stream",
     "text": [
      "np.column_stack(ss_np_array_3, ss_np_array_3) \n",
      "[[4 1 4 1]]\n",
      "np.row_stack(ss_np_array_3, ss_np_array_4) \n",
      "[[4 1]\n",
      " [7 4]]\n"
     ]
    }
   ],
   "source": [
    "print('np.column_stack(ss_np_array_3, ss_np_array_3) \\n{}'.format(np.column_stack((ss_np_array_3, ss_np_array_3))))\n",
    "print('np.row_stack(ss_np_array_3, ss_np_array_4) \\n{}'.format(np.row_stack((ss_np_array_3, ss_np_array_4))))"
   ]
  },
  {
   "cell_type": "code",
   "execution_count": 16,
   "metadata": {},
   "outputs": [
    {
     "name": "stdout",
     "output_type": "stream",
     "text": [
      "ss_np_array_5: \n",
      "[[4 7 5 3 4 6 5 1 6 6]\n",
      " [0 0 6 5 5 3 3 5 5 7]]\n",
      "np.hsplit(ss_np_array_5, 5): \n",
      "[array([[4, 7],\n",
      "       [0, 0]]), array([[5, 3],\n",
      "       [6, 5]]), array([[4, 6],\n",
      "       [5, 3]]), array([[5, 1],\n",
      "       [3, 5]]), array([[6, 6],\n",
      "       [5, 7]])]\n",
      "type(np.hsplit(ss_np_array_5, 5)): <class 'list'>\n",
      "np.hsplit(ss_np_array_5, (2,4)): \n",
      "[array([[4, 7],\n",
      "       [0, 0]]), array([[5, 3],\n",
      "       [6, 5]]), array([[4, 6, 5, 1, 6, 6],\n",
      "       [5, 3, 3, 5, 5, 7]])]\n"
     ]
    }
   ],
   "source": [
    "ss_np_array_5 = np.random.randint(10, size =(2,10))\n",
    "print('ss_np_array_5: \\n{}'.format(ss_np_array_5))\n",
    "print('np.hsplit(ss_np_array_5, 5): \\n{}'.format(np.hsplit(ss_np_array_5, 5)))\n",
    "print('type(np.hsplit(ss_np_array_5, 5)): {}'.format(type(np.hsplit(ss_np_array_5, 5))))\n",
    "print('np.hsplit(ss_np_array_5, (2,4)): \\n{}'.format(np.hsplit(ss_np_array_5, (2,4))))"
   ]
  },
  {
   "cell_type": "markdown",
   "metadata": {},
   "source": [
    "Copying\n",
    "==="
   ]
  },
  {
   "cell_type": "code",
   "execution_count": 17,
   "metadata": {},
   "outputs": [
    {
     "name": "stdout",
     "output_type": "stream",
     "text": [
      "cp_np_array_1: \n",
      "[[5 2]\n",
      " [0 3]]\n",
      "cp_np_array_1: \n",
      "[[20  2]\n",
      " [ 0  3]]\n",
      "cp_np_array_2: \n",
      "[[20  2]\n",
      " [ 0  3]]\n"
     ]
    }
   ],
   "source": [
    "cp_np_array_1 = np.random.randint(10, size =(2,2))\n",
    "print('cp_np_array_1: \\n{}'.format(cp_np_array_1))\n",
    "cp_np_array_2 = cp_np_array_1\n",
    "cp_np_array_1[0,0] = 20\n",
    "print('cp_np_array_1: \\n{}'.format(cp_np_array_1))\n",
    "print('cp_np_array_2: \\n{}'.format(cp_np_array_2))"
   ]
  },
  {
   "cell_type": "code",
   "execution_count": 18,
   "metadata": {},
   "outputs": [
    {
     "name": "stdout",
     "output_type": "stream",
     "text": [
      "cp_np_array_1: \n",
      "[[30  2]\n",
      " [ 0  3]]\n",
      "cp_np_array_3: \n",
      "[[30  2]\n",
      " [ 0  3]]\n",
      "cp_np_array_1: \n",
      "[[30  2]\n",
      " [ 0  3]]\n",
      "cp_np_array_4: \n",
      "[[40  2]\n",
      " [ 0  3]]\n"
     ]
    }
   ],
   "source": [
    "cp_np_array_3 = cp_np_array_1.view()\n",
    "cp_np_array_3[0,0] = 30\n",
    "print('cp_np_array_1: \\n{}'.format(cp_np_array_1))\n",
    "print('cp_np_array_3: \\n{}'.format(cp_np_array_3))\n",
    "cp_np_array_4 = cp_np_array_1.copy()\n",
    "cp_np_array_4[0,0] = 40\n",
    "print('cp_np_array_1: \\n{}'.format(cp_np_array_1))\n",
    "print('cp_np_array_4: \\n{}'.format(cp_np_array_4))"
   ]
  },
  {
   "cell_type": "markdown",
   "metadata": {},
   "source": [
    "Basic Math\n",
    "==="
   ]
  },
  {
   "cell_type": "code",
   "execution_count": 19,
   "metadata": {},
   "outputs": [
    {
     "name": "stdout",
     "output_type": "stream",
     "text": [
      "bm_array_1+bm_array_2: [ 3  6  9 12]\n",
      "bm_array_1*bm_array_2: [ 2  8 18 32]\n",
      "np.add(bm_array_1,bm_array_2) :[ 3  6  9 12]\n"
     ]
    }
   ],
   "source": [
    "bm_array_1 = np.array([1, 2, 3, 4])\n",
    "bm_array_2 = np.array([2, 4, 6, 8])\n",
    "print('bm_array_1+bm_array_2: {}'.format(bm_array_1+bm_array_2))\n",
    "print('bm_array_1*bm_array_2: {}'.format(bm_array_1*bm_array_2))\n",
    "print('np.add(bm_array_1,bm_array_2) :{}'.format(np.add(bm_array_1,bm_array_2))) # add, subtract, multiply, divide (+, -, *, /)"
   ]
  },
  {
   "cell_type": "code",
   "execution_count": 20,
   "metadata": {},
   "outputs": [
    {
     "name": "stdout",
     "output_type": "stream",
     "text": [
      "np.random.choice(bm_array_1): 4\n",
      "bm_array_1.sum(): 10\n",
      "np.add(bm_array_1, 5): [6 7 8 9]\n"
     ]
    }
   ],
   "source": [
    "print('np.random.choice(bm_array_1): {}'.format(np.random.choice(bm_array_1)))\n",
    "print('bm_array_1.sum(): {}'.format(bm_array_1.sum()))\n",
    "print('np.add(bm_array_1, 5): {}'.format(np.add(bm_array_1, 5)))"
   ]
  },
  {
   "cell_type": "code",
   "execution_count": 21,
   "metadata": {},
   "outputs": [
    {
     "name": "stdout",
     "output_type": "stream",
     "text": [
      "np.sqrt(bm_array_1): [1.         1.41421356 1.73205081 2.        ]\n",
      "np.cbrt(bm_array_1): [1.         1.25992105 1.44224957 1.58740105]\n",
      "np.exp(bm_array_1): [ 2.71828183  7.3890561  20.08553692 54.59815003]\n",
      "np.log(bm_array_1): [0.         0.69314718 1.09861229 1.38629436]\n",
      "np.absolute([-1, -2]: [1 2]\n"
     ]
    }
   ],
   "source": [
    "print('np.sqrt(bm_array_1): {}'.format(np.sqrt(bm_array_1)))\n",
    "print('np.cbrt(bm_array_1): {}'.format(np.cbrt(bm_array_1)))\n",
    "print('np.exp(bm_array_1): {}'.format(np.exp(bm_array_1)))\n",
    "print('np.log(bm_array_1): {}'.format(np.log(bm_array_1)))\n",
    "print('np.absolute([-1, -2]: {}'.format(np.absolute([-1, -2])))"
   ]
  },
  {
   "cell_type": "code",
   "execution_count": 22,
   "metadata": {},
   "outputs": [
    {
     "name": "stdout",
     "output_type": "stream",
     "text": [
      "bm_array_3: \n",
      "[[36 54 52]\n",
      " [ 0 53 26]]\n",
      "bm_array_3.sum(axis=0): [ 36 107  78]\n",
      "bm_array_3.cumsum(axis=1): \n",
      "[[ 36  90 142]\n",
      " [  0  53  79]]\n"
     ]
    }
   ],
   "source": [
    "bm_array_3 = random.randint(100, size=(2,3))\n",
    "print('bm_array_3: \\n{}'.format(bm_array_3))\n",
    "print('bm_array_3.sum(axis=0): {}'.format(bm_array_3.sum(axis=0)))\n",
    "print('bm_array_3.cumsum(axis=1): \\n{}'.format(bm_array_3.cumsum(axis=1)))"
   ]
  },
  {
   "cell_type": "code",
   "execution_count": 23,
   "metadata": {},
   "outputs": [
    {
     "name": "stdout",
     "output_type": "stream",
     "text": [
      "bm_array_3.min(axis=0): [ 0 53 26]\n",
      "bm_array_3.max(axis=1): [54 53]\n"
     ]
    }
   ],
   "source": [
    "print('bm_array_3.min(axis=0): {}'.format(bm_array_3.min(axis=0)))\n",
    "print('bm_array_3.max(axis=1): {}'.format(bm_array_3.max(axis=1)))"
   ]
  },
  {
   "cell_type": "code",
   "execution_count": 24,
   "metadata": {},
   "outputs": [
    {
     "name": "stdout",
     "output_type": "stream",
     "text": [
      "np.remainder(bm_array_5, bm_array_4): \n",
      "[[0 0]\n",
      " [0 1]]\n",
      "np.power(bm_array_5, bm_array_4): \n",
      "[[   2   16]\n",
      " [ 216 6561]]\n"
     ]
    }
   ],
   "source": [
    "bm_array_4 = np.array([[1, 2], [3, 4]])\n",
    "bm_array_5 = np.array([[2, 4], [6, 9]])\n",
    "print('np.remainder(bm_array_5, bm_array_4): \\n{}'.format(np.remainder(bm_array_5, bm_array_4)))\n",
    "print('np.power(bm_array_5, bm_array_4): \\n{}'.format(np.power(bm_array_5, bm_array_4)))"
   ]
  },
  {
   "cell_type": "code",
   "execution_count": 25,
   "metadata": {},
   "outputs": [
    {
     "name": "stdout",
     "output_type": "stream",
     "text": [
      "np.gcd.reduce([9, 12, 15]): 3\n",
      "np.lcm.reduce([9, 12, 15]): 180\n",
      "np.floor([1.2, 2.5]: [1. 2.]\n",
      "np.ceil([1.2, 2.5]: [2. 3.]\n"
     ]
    }
   ],
   "source": [
    "print('np.gcd.reduce([9, 12, 15]): {}'.format(np.gcd.reduce([9, 12, 15])))\n",
    "print('np.lcm.reduce([9, 12, 15]): {}'.format(np.lcm.reduce([9, 12, 15])))\n",
    "print('np.floor([1.2, 2.5]: {}'.format(np.floor([1.2, 2.5])))\n",
    "print('np.ceil([1.2, 2.5]: {}'.format(np.ceil([1.2, 2.5])))"
   ]
  },
  {
   "cell_type": "code",
   "execution_count": 26,
   "metadata": {},
   "outputs": [
    {
     "name": "stdout",
     "output_type": "stream",
     "text": [
      "bm_array_6: \n",
      "[[7 7 0]\n",
      " [4 8 1]\n",
      " [6 1 8]\n",
      " [2 5 3]\n",
      " [8 9 2]]\n",
      "bm_array_6.argmax(axis=0): [4 4 2]\n"
     ]
    }
   ],
   "source": [
    "bm_array_6 = np.random.randint(10, size=(5,3))\n",
    "print('bm_array_6: \\n{}'.format(bm_array_6))\n",
    "print('bm_array_6.argmax(axis=0): {}'.format(bm_array_6.argmax(axis=0)))"
   ]
  },
  {
   "cell_type": "markdown",
   "metadata": {},
   "source": [
    "Statistic Functions\n",
    "==="
   ]
  },
  {
   "cell_type": "code",
   "execution_count": 27,
   "metadata": {},
   "outputs": [
    {
     "name": "stdout",
     "output_type": "stream",
     "text": [
      "sf_array: [1 2 3 4 5]\n",
      "np.mean: 3.0\n",
      "np.std: 1.4142135623730951\n",
      "np.median: 3.0\n"
     ]
    }
   ],
   "source": [
    "sf_array = np.arange(1, 6)\n",
    "print('sf_array: {}'.format(sf_array))\n",
    "print('np.mean: {}'.format(np.mean(sf_array)))\n",
    "print('np.std: {}'.format(np.std(sf_array)))\n",
    "print('np.median: {}'.format(np.median(sf_array)))\n",
    "# nanmedian, nanmean, nanstd, nanvar ..."
   ]
  },
  {
   "cell_type": "code",
   "execution_count": 28,
   "metadata": {},
   "outputs": [
    {
     "name": "stdout",
     "output_type": "stream",
     "text": [
      "ice_cream_array: \n",
      "[[ 37 292]\n",
      " [ 40 228]\n",
      " [ 49 324]\n",
      " [ 61 376]\n",
      " [ 72 440]\n",
      " [ 79 496]\n",
      " [ 83 536]\n",
      " [ 81 556]\n",
      " [ 75 496]\n",
      " [ 64 412]\n",
      " [ 53 324]\n",
      " [ 40 320]]\n"
     ]
    }
   ],
   "source": [
    "ice_cream_array = pd.read_csv('icecreamsales.csv').to_numpy()\n",
    "print('ice_cream_array: \\n{}'.format(ice_cream_array))"
   ]
  },
  {
   "cell_type": "code",
   "execution_count": 29,
   "metadata": {},
   "outputs": [
    {
     "name": "stdout",
     "output_type": "stream",
     "text": [
      "np.corrcoef(ice_cream_array[:,0], ice_cream_array[:,1]: \n",
      "[[1.         0.96181329]\n",
      " [0.96181329 1.        ]]\n"
     ]
    }
   ],
   "source": [
    "print('np.corrcoef(ice_cream_array[:,0], ice_cream_array[:,1]: \\n{}'.format(np.corrcoef(ice_cream_array[:,0], ice_cream_array[:,1])))"
   ]
  },
  {
   "cell_type": "code",
   "execution_count": 30,
   "metadata": {},
   "outputs": [
    {
     "name": "stdout",
     "output_type": "stream",
     "text": [
      "reg_sales_array: \n",
      "[256.  273.9 327.5 399.  464.5 506.3 530.1 518.2 482.4 416.9 351.3 273.9]\n"
     ]
    }
   ],
   "source": [
    "temp_mean = np.mean(ice_cream_array[:,0])\n",
    "sales_mean = np.mean(ice_cream_array[:,1])\n",
    "numerator = np.sum((ice_cream_array[:,0]-temp_mean)*(ice_cream_array[:,1]-sales_mean))\n",
    "denominator = np.sum(np.square(ice_cream_array[:,0]-temp_mean))\n",
    "slope = numerator/denominator\n",
    "y_i = sales_mean - slope*temp_mean\n",
    "reg_sales_array = np.round(ice_cream_array[:,0]*slope + y_i, 1)\n",
    "print('reg_sales_array: \\n{}'.format(reg_sales_array))"
   ]
  },
  {
   "cell_type": "markdown",
   "metadata": {},
   "source": [
    "Trig Functions\n",
    "==="
   ]
  },
  {
   "cell_type": "code",
   "execution_count": 31,
   "metadata": {},
   "outputs": [
    {
     "data": {
      "text/plain": [
       "[<matplotlib.lines.Line2D at 0x11e780a60>]"
      ]
     },
     "execution_count": 31,
     "metadata": {},
     "output_type": "execute_result"
    },
    {
     "data": {
      "image/png": "[encoded data removed]",
      "text/plain": [
       "<Figure size 640x480 with 1 Axes>"
      ]
     },
     "metadata": {},
     "output_type": "display_data"
    }
   ],
   "source": [
    "tf_array = np.linspace(-np.pi, np.pi, 200)\n",
    "plt.plot(tf_array, np.sin(tf_array))\n",
    "# np.sin, np.cos, np.arcsin, np.arccos, np.tan, np.arctan ..."
   ]
  },
  {
   "cell_type": "code",
   "execution_count": 32,
   "metadata": {},
   "outputs": [
    {
     "name": "stdout",
     "output_type": "stream",
     "text": [
      "np.rad2deg(np.pi): 180.0\n",
      "np.deg2rad(180): 3.141592653589793\n",
      "np.hypot(10, 10): 14.142135623730951\n"
     ]
    }
   ],
   "source": [
    "print('np.rad2deg(np.pi): {}'.format(np.rad2deg(np.pi)))\n",
    "print('np.deg2rad(180): {}'.format(np.deg2rad(180)))\n",
    "print('np.hypot(10, 10): {}'.format(np.hypot(10, 10))) # Hypotenuse"
   ]
  },
  {
   "cell_type": "markdown",
   "metadata": {},
   "source": [
    "Linear Algebra Functions\n",
    "==="
   ]
  },
  {
   "cell_type": "code",
   "execution_count": 33,
   "metadata": {},
   "outputs": [],
   "source": [
    "from numpy import linalg as LA"
   ]
  },
  {
   "cell_type": "code",
   "execution_count": 34,
   "metadata": {},
   "outputs": [
    {
     "name": "stdout",
     "output_type": "stream",
     "text": [
      "la_array_1: \n",
      "[[1 2]\n",
      " [3 4]]\n",
      "la_array_2: \n",
      "[[2 4]\n",
      " [6 9]]\n",
      "la_array_3: \n",
      "[[5 6]\n",
      " [7 8]]\n"
     ]
    }
   ],
   "source": [
    "la_array_1 = np.array([[1, 2], [3, 4]])\n",
    "la_array_2 = np.array([[2, 4], [6, 9]])\n",
    "la_array_3 = np.array([[5, 6], [7, 8]])\n",
    "print('la_array_1: \\n{}'.format(la_array_1))\n",
    "print('la_array_2: \\n{}'.format(la_array_2))\n",
    "print('la_array_3: \\n{}'.format(la_array_3))"
   ]
  },
  {
   "cell_type": "code",
   "execution_count": 35,
   "metadata": {},
   "outputs": [
    {
     "name": "stdout",
     "output_type": "stream",
     "text": [
      "np.dot(la_array_1, la_array_2): \n",
      "[[14 22]\n",
      " [30 48]]\n",
      "LA.multi_dot((la_array_1, la_array_2, la_array_3)): \n",
      "[[224 260]\n",
      " [486 564]]\n",
      "np.inner(la_array_1, la_array_2): \n",
      "[[10 24]\n",
      " [22 54]]\n"
     ]
    }
   ],
   "source": [
    "print('np.dot(la_array_1, la_array_2): \\n{}'.format(np.dot(la_array_1, la_array_2)))\n",
    "print('LA.multi_dot((la_array_1, la_array_2, la_array_3)): \\n{}'.format(LA.multi_dot((la_array_1, la_array_2, la_array_3))))\n",
    "print('np.inner(la_array_1, la_array_2): \\n{}'.format(np.inner(la_array_1, la_array_2)))"
   ]
  },
  {
   "cell_type": "code",
   "execution_count": 36,
   "metadata": {},
   "outputs": [
    {
     "name": "stdout",
     "output_type": "stream",
     "text": [
      "la_array_4: \n",
      "[[[1 2]\n",
      "  [3 4]]\n",
      "\n",
      " [[5 6]\n",
      "  [7 8]]]\n",
      "la_array_5: \n",
      "[[1 2]\n",
      " [3 4]]\n"
     ]
    }
   ],
   "source": [
    "la_array_4 = np.array([[[1,2], [3,4]], [[5,6], [7,8]]])\n",
    "la_array_5 = np.array([[1,2], [3,4]])\n",
    "print('la_array_4: \\n{}'.format(la_array_4))\n",
    "print('la_array_5: \\n{}'.format(la_array_5))"
   ]
  },
  {
   "cell_type": "code",
   "execution_count": 37,
   "metadata": {},
   "outputs": [
    {
     "name": "stdout",
     "output_type": "stream",
     "text": [
      "np.tensordot(la_array_4, la_array_5): [30 70]\n"
     ]
    }
   ],
   "source": [
    "print('np.tensordot(la_array_4, la_array_5): {}'.format(np.tensordot(la_array_4, la_array_5)))"
   ]
  },
  {
   "cell_type": "code",
   "execution_count": 38,
   "metadata": {},
   "outputs": [
    {
     "name": "stdout",
     "output_type": "stream",
     "text": [
      "la_array_6: [0 1]\n",
      "lambda_array_7: \n",
      "[[0 1 2 3]\n",
      " [4 5 6 7]]\n",
      "np.einsum('i,ij->i',la_array_6,la_array_7): [ 0 22]\n",
      "np.einsum('i->',la_array_6): 1\n"
     ]
    }
   ],
   "source": [
    "la_array_6 = np.array([0,1])\n",
    "la_array_7 = np.array([[0,1,2,3],[4,5,6,7]])\n",
    "print('la_array_6: {}'.format(la_array_6))\n",
    "print('lambda_array_7: \\n{}'.format(la_array_7))\n",
    "print(\"np.einsum('i,ij->i',la_array_6,la_array_7): {}\".format(np.einsum('i,ij->i',la_array_6,la_array_7)))\n",
    "print(\"np.einsum('i->',la_array_6): {}\".format(np.einsum('i->',la_array_6)))"
   ]
  },
  {
   "cell_type": "code",
   "execution_count": 39,
   "metadata": {},
   "outputs": [
    {
     "name": "stdout",
     "output_type": "stream",
     "text": [
      "la_array_8: [1 2 3 4]\n",
      "la_array_9: [2 4 6 8]\n",
      "np.einsum('i,i->',la_array_8,la_array_9): 60\n"
     ]
    }
   ],
   "source": [
    "la_array_8 = np.array([1,2,3,4])\n",
    "la_array_9 = np.array([2,4,6,8])\n",
    "print('la_array_8: {}'.format(la_array_8))\n",
    "print('la_array_9: {}'.format(la_array_9))\n",
    "print(\"np.einsum('i,i->',la_array_8,la_array_9): {}\".format(np.einsum('i,i->',la_array_8,la_array_9)))"
   ]
  },
  {
   "cell_type": "code",
   "execution_count": 40,
   "metadata": {},
   "outputs": [
    {
     "name": "stdout",
     "output_type": "stream",
     "text": [
      "la_array_1: \n",
      "[[1 2]\n",
      " [3 4]]\n",
      "la_array_2: \n",
      "[[2 4]\n",
      " [6 9]]\n",
      "np.einsum('ij,jk->',la_array_1,la_array_2): 114\n",
      "np.einsum('ii', la_array_1): 5\n",
      "np.einsum('ji', la_array_1): \n",
      "[[1 3]\n",
      " [2 4]]\n"
     ]
    }
   ],
   "source": [
    "print('la_array_1: \\n{}'.format(la_array_1))\n",
    "print('la_array_2: \\n{}'.format(la_array_2))\n",
    "print(\"np.einsum('ij,jk->',la_array_1,la_array_2): {}\".format(np.einsum('ij,jk->',la_array_1,la_array_2)))\n",
    "print(\"np.einsum('ii', la_array_1): {}\".format(np.einsum('ii', la_array_1)))\n",
    "print(\"np.einsum('ji', la_array_1): \\n{}\".format(np.einsum('ji', la_array_1)))"
   ]
  },
  {
   "cell_type": "code",
   "execution_count": 41,
   "metadata": {},
   "outputs": [
    {
     "name": "stdout",
     "output_type": "stream",
     "text": [
      "LA.matrix_power(la_array_1, 2): \n",
      "[[ 7 10]\n",
      " [15 22]]\n",
      "np.kron(la_array_1, la_array_2): \n",
      "[[ 2  4  4  8]\n",
      " [ 6  9 12 18]\n",
      " [ 6 12  8 16]\n",
      " [18 27 24 36]]\n",
      "LA.eig(la_array_1): \n",
      "(array([-0.37228132,  5.37228132]), array([[-0.82456484, -0.41597356],\n",
      "       [ 0.56576746, -0.90937671]]))\n",
      "LA.eigvals(la_array_1): [-0.37228132  5.37228132]\n",
      "LA.norm(la_array_1): 5.477225575051661\n",
      "LA.inv(la_array_1): \n",
      "[[-2.   1. ]\n",
      " [ 1.5 -0.5]]\n",
      "LA.cond(la_array_1): 14.933034373659265\n"
     ]
    }
   ],
   "source": [
    "print('LA.matrix_power(la_array_1, 2): \\n{}'.format(LA.matrix_power(la_array_1, 2)))\n",
    "print('np.kron(la_array_1, la_array_2): \\n{}'.format(np.kron(la_array_1, la_array_2)))\n",
    "print('LA.eig(la_array_1): \\n{}'.format(LA.eig(la_array_1)))\n",
    "print('LA.eigvals(la_array_1): {}'.format(LA.eigvals(la_array_1)))\n",
    "print('LA.norm(la_array_1): {}'.format(LA.norm(la_array_1)))\n",
    "print('LA.inv(la_array_1): \\n{}'.format(LA.inv(la_array_1)))\n",
    "print('LA.cond(la_array_1): {}'.format(LA.cond(la_array_1)))"
   ]
  },
  {
   "cell_type": "code",
   "execution_count": 42,
   "metadata": {},
   "outputs": [
    {
     "name": "stdout",
     "output_type": "stream",
     "text": [
      "la_array_10: \n",
      "[[1 2]\n",
      " [3 4]]\n",
      "LA.det(la_array_10): -2.0000000000000004\n"
     ]
    }
   ],
   "source": [
    "la_array_10 = np.array([[1,2],[3,4]])\n",
    "print('la_array_10: \\n{}'.format(la_array_10))\n",
    "print('LA.det(la_array_10): {}'.format(LA.det(la_array_10)))"
   ]
  },
  {
   "cell_type": "code",
   "execution_count": 43,
   "metadata": {},
   "outputs": [
    {
     "name": "stdout",
     "output_type": "stream",
     "text": [
      "la_array_11: \n",
      "[[ 1  4]\n",
      " [ 6 18]]\n",
      "la_array_12: [10 42]\n",
      "LA.solve(la_array_11, la_array_12): [-2.  3.]\n"
     ]
    }
   ],
   "source": [
    "la_array_11 = np.array([[1, 4], [6,18]])\n",
    "la_array_12 = np.array([10, 42])\n",
    "print('la_array_11: \\n{}'.format(la_array_11))\n",
    "print('la_array_12: {}'.format(la_array_12))\n",
    "print('LA.solve(la_array_11, la_array_12): {}'.format(LA.solve(la_array_11, la_array_12)))"
   ]
  },
  {
   "cell_type": "code",
   "execution_count": 44,
   "metadata": {},
   "outputs": [
    {
     "name": "stdout",
     "output_type": "stream",
     "text": [
      "np.eye(2,2,dtype=int): \n",
      "[[1 0]\n",
      " [0 1]]\n"
     ]
    }
   ],
   "source": [
    "print('np.eye(2,2,dtype=int): \\n{}'.format(np.eye(2,2,dtype=int)))"
   ]
  },
  {
   "cell_type": "markdown",
   "metadata": {},
   "source": [
    "Saving & Loading NumPy Objects\n",
    "==="
   ]
  },
  {
   "cell_type": "code",
   "execution_count": 45,
   "metadata": {},
   "outputs": [],
   "source": [
    "sl_array_1 = np.array([[1,2],[3,4]])\n",
    "np.save('np_array_file', sl_array_1)\n",
    "np.savetxt('np_csv.csv', sl_array_1)"
   ]
  },
  {
   "cell_type": "code",
   "execution_count": 46,
   "metadata": {},
   "outputs": [
    {
     "name": "stdout",
     "output_type": "stream",
     "text": [
      "sl_array_2: \n",
      "[[1 2]\n",
      " [3 4]]\n",
      "sl_array_3: \n",
      "[[1. 2.]\n",
      " [3. 4.]]\n"
     ]
    }
   ],
   "source": [
    "sl_array_2 = np.load('np_array_file.npy')\n",
    "sl_array_3 = np.loadtxt('np_csv.csv')\n",
    "print('sl_array_2: \\n{}'.format(sl_array_2))\n",
    "print('sl_array_3: \\n{}'.format(sl_array_3))"
   ]
  },
  {
   "cell_type": "markdown",
   "metadata": {},
   "source": [
    "Financial Functions\n",
    "==="
   ]
  },
  {
   "cell_type": "code",
   "execution_count": 47,
   "metadata": {},
   "outputs": [],
   "source": [
    "import numpy_financial as npf"
   ]
  },
  {
   "cell_type": "code",
   "execution_count": 48,
   "metadata": {},
   "outputs": [
    {
     "name": "stdout",
     "output_type": "stream",
     "text": [
      "npf.fv(.08/12,10*12,-400,-400): 74066.27016650053\n"
     ]
    }
   ],
   "source": [
    "print('npf.fv(.08/12,10*12,-400,-400): {}'.format(npf.fv(.08/12, 10*12, -400, -400)))"
   ]
  },
  {
   "cell_type": "code",
   "execution_count": 49,
   "metadata": {},
   "outputs": [
    {
     "name": "stdout",
     "output_type": "stream",
     "text": [
      "1  -239.58   -23.12    2760.42\n",
      "2  -241.42   -21.28    2519.0\n",
      "3  -243.29   -19.42    2275.71\n",
      "4  -245.16   -17.54    2030.55\n",
      "5  -247.05   -15.65    1783.5\n",
      "6  -248.95   -13.75    1534.55\n",
      "7  -250.87   -11.83    1283.67\n",
      "8  -252.81   -9.89    1030.87\n",
      "9  -254.76   -7.95    776.11\n",
      "10  -256.72   -5.98    519.39\n",
      "11  -258.7   -4.0    260.69\n",
      "12  -260.69   -2.01    0.0\n"
     ]
    }
   ],
   "source": [
    "period = np.arange(1*12)+1\n",
    "principle = 3000.00\n",
    "ipmt = npf.ipmt(0.0925/12, period, 1*12, principle)\n",
    "ppmt = npf.ppmt(0.0925/12, period, 1*12, principle)\n",
    "for payment in period:\n",
    "    index = payment - 1\n",
    "    principle = principle + ppmt[index]\n",
    "    print(f\"{payment}  {np.round(ppmt[index], 2)}   {np.round(ipmt[index], 2)}    {np.round(principle, 2)}\")"
   ]
  },
  {
   "cell_type": "code",
   "execution_count": 50,
   "metadata": {},
   "outputs": [
    {
     "name": "stdout",
     "output_type": "stream",
     "text": [
      "np.round(npf.nper(.0925/12,-150,3000.00),2): 21.8\n",
      "npf.npv(0.08, [-15000, 4000, 5000, 6000, 7000]): 2898.600220908811\n"
     ]
    }
   ],
   "source": [
    "print('np.round(npf.nper(.0925/12,-150,3000.00),2): {}'.format(np.round(npf.nper(.0925/12, -150, 3000.00), 2)))\n",
    "print('npf.npv(0.08, [-15000, 4000, 5000, 6000, 7000]): {}'.format(npf.npv(0.08, [-15000, 4000, 5000, 6000, 7000])))"
   ]
  },
  {
   "cell_type": "markdown",
   "metadata": {},
   "source": [
    "Comparison Functions\n",
    "==="
   ]
  },
  {
   "cell_type": "code",
   "execution_count": 51,
   "metadata": {},
   "outputs": [
    {
     "name": "stdout",
     "output_type": "stream",
     "text": [
      "np.greater(cf_array_1, cf_array_2): [False  True]\n",
      "np.less_equal(cf_array_1, cf_array_2): [ True False]\n"
     ]
    }
   ],
   "source": [
    "cf_array_1 = np.array([2,3])\n",
    "cf_array_2 = np.array([3,2])\n",
    "print('np.greater(cf_array_1, cf_array_2): {}'.format(np.greater(cf_array_1,cf_array_2)))\n",
    "print('np.less_equal(cf_array_1, cf_array_2): {}'.format(np.less_equal(cf_array_1,cf_array_2)))"
   ]
  },
  {
   "cell_type": "code",
   "execution_count": null,
   "metadata": {},
   "outputs": [],
   "source": []
  }
 ],
 "metadata": {
  "kernelspec": {
   "display_name": "Python 3.10.6 ('base')",
   "language": "python",
   "name": "python3"
  },
  "language_info": {
   "codemirror_mode": {
    "name": "ipython",
    "version": 3
   },
   "file_extension": ".py",
   "mimetype": "text/x-python",
   "name": "python",
   "nbconvert_exporter": "python",
   "pygments_lexer": "ipython3",
   "version": "3.10.6"
  },
  "orig_nbformat": 4,
  "vscode": {
   "interpreter": {
    "hash": "c6e4e9f98eb68ad3b7c296f83d20e6de614cb42e90992a65aa266555a3137d0d"
   }
  }
 },
 "nbformat": 4,
 "nbformat_minor": 2
}

{
 "cells": [
  {
   "cell_type": "markdown",
   "metadata": {},
   "source": [
    "*Author: Shaole CHANG*  \n",
    "*Date: Nov 27st, 2022*  \n",
    "\n",
    "**What's this?**  \n",
    "&emsp;***A general tutorial of Pandas Library.***\n",
    "---"
   ]
  },
  {
   "cell_type": "code",
   "execution_count": 1,
   "metadata": {},
   "outputs": [],
   "source": [
    "import numpy as np\n",
    "import pandas as pd\n",
    "pd.set_option('display.width', 500)\n",
    "pd.set_option('display.max_rows',10)"
   ]
  },
  {
   "cell_type": "markdown",
   "metadata": {},
   "source": [
    "Series\n",
    "==="
   ]
  },
  {
   "cell_type": "code",
   "execution_count": 2,
   "metadata": {},
   "outputs": [
    {
     "name": "stdout",
     "output_type": "stream",
     "text": [
      "ser_1: \n",
      "1    a\n",
      "2    b\n",
      "3    c\n",
      "4    d\n",
      "dtype: object\n",
      "ser_2: \n",
      "0    1\n",
      "1    2\n",
      "2    3\n",
      "3    4\n",
      "dtype: int64\n",
      "ser_2.dtype: int64\n",
      "ser_3: \n",
      "f_name    Shaole\n",
      "l_name     CHANG\n",
      "Age           xx\n",
      "dtype: object\n",
      "ser_3['f_name']: Shaole\n"
     ]
    }
   ],
   "source": [
    "list_1 = ['a','b','c','d']\n",
    "labels = [1,2,3,4]\n",
    "ser_1 = pd.Series(data=list_1, index=labels)\n",
    "print('ser_1: \\n{}'.format(ser_1))\n",
    "array_1 = np.array([1, 2, 3, 4])\n",
    "ser_2 = pd.Series(array_1)\n",
    "print('ser_2: \\n{}'.format(ser_2))\n",
    "print('ser_2.dtype: {}'.format(ser_2.dtype))\n",
    "dict_1 = {'f_name':'Shaole', 'l_name':'CHANG', 'Age':'xx'}\n",
    "ser_3 = pd.Series(dict_1)\n",
    "print('ser_3: \\n{}'.format(ser_3))\n",
    "print(\"ser_3['f_name']: {}\".format(ser_3['f_name']))"
   ]
  },
  {
   "cell_type": "code",
   "execution_count": 3,
   "metadata": {},
   "outputs": [
    {
     "name": "stdout",
     "output_type": "stream",
     "text": [
      "ser_2+ser_2: \n",
      "0    2\n",
      "1    4\n",
      "2    6\n",
      "3    8\n",
      "dtype: int64\n",
      "ser_2/ser_2: \n",
      "0    1.0\n",
      "1    1.0\n",
      "2    1.0\n",
      "3    1.0\n",
      "dtype: float64\n",
      "np.exp(ser_2): \n",
      "0     2.718282\n",
      "1     7.389056\n",
      "2    20.085537\n",
      "3    54.598150\n",
      "dtype: float64\n"
     ]
    }
   ],
   "source": [
    "print('ser_2+ser_2: \\n{}'.format(ser_2+ser_2))\n",
    "print('ser_2/ser_2: \\n{}'.format(ser_2/ser_2))\n",
    "print('np.exp(ser_2): \\n{}'.format(np.exp(ser_2))) "
   ]
  },
  {
   "cell_type": "code",
   "execution_count": 4,
   "metadata": {},
   "outputs": [
    {
     "name": "stdout",
     "output_type": "stream",
     "text": [
      "ser_2+ser_4: \n",
      "0   NaN\n",
      "1   NaN\n",
      "2   NaN\n",
      "3   NaN\n",
      "4   NaN\n",
      "5   NaN\n",
      "6   NaN\n",
      "7   NaN\n",
      "dtype: float64\n",
      "ser_4.name: rand_nums\n"
     ]
    }
   ],
   "source": [
    "ser_4 = pd.Series({4:5,5:6,6:7,7:8}, name='rand_nums')\n",
    "print('ser_2+ser_4: \\n{}'.format(ser_2+ser_4))\n",
    "print('ser_4.name: {}'.format(ser_4.name))"
   ]
  },
  {
   "cell_type": "markdown",
   "metadata": {},
   "source": [
    "DataFrame\n",
    "==="
   ]
  },
  {
   "cell_type": "markdown",
   "metadata": {},
   "source": [
    "Creating DataFrame\n",
    "---"
   ]
  },
  {
   "cell_type": "code",
   "execution_count": 5,
   "metadata": {},
   "outputs": [
    {
     "name": "stdout",
     "output_type": "stream",
     "text": [
      "df_1: \n",
      "    C   D   E\n",
      "A  30  21  48\n",
      "B  40  11  22\n",
      "df_1.shape: (2, 3)\n",
      "df_2: \n",
      "   one  two\n",
      "a  1.0  1.0\n",
      "b  2.0  2.0\n",
      "c  3.0  3.0\n",
      "d  NaN  4.0\n",
      "pd.DataFrame.from_dict(dict([('A',[1,2,3]), ('B',[4,5,6])])): \n",
      "   A  B\n",
      "0  1  4\n",
      "1  2  5\n",
      "2  3  6\n",
      "pd.DataFrame.from_dict(dict([('A',[1,2,3]), ('B',[4,5,6])]), orient='index', columns=['one','two','three']): \n",
      "   one  two  three\n",
      "A    1    2      3\n",
      "B    4    5      6\n"
     ]
    }
   ],
   "source": [
    "array_2 = np.random.randint(10, 50, size =(2,3))\n",
    "df_1 = pd.DataFrame(data=array_2, index=['A', 'B'], columns=['C', 'D', 'E'])\n",
    "print('df_1: \\n{}'.format(df_1))\n",
    "print('df_1.shape: {}'.format(df_1.shape))\n",
    "dict_2 = {'one': pd.Series([1., 2., 3.], index=['a', 'b', 'c']),'two': pd.Series([1., 2., 3., 4.], index=['a', 'b', 'c', 'd'])}\n",
    "df_2 = pd.DataFrame(dict_2)\n",
    "print('df_2: \\n{}'.format(df_2))\n",
    "print(\"pd.DataFrame.from_dict(dict([('A',[1,2,3]), ('B',[4,5,6])])): \\n{}\".format(\n",
    "    pd.DataFrame.from_dict(dict([('A',[1,2,3]), ('B',[4,5,6])]))))\n",
    "print(\"pd.DataFrame.from_dict(dict([('A',[1,2,3]), ('B',[4,5,6])]), orient='index', columns=['one','two','three']): \\n{}\".format(\n",
    "    pd.DataFrame.from_dict(dict([('A',[1,2,3]), ('B',[4,5,6])]), orient='index', columns=['one','two','three'])))"
   ]
  },
  {
   "cell_type": "markdown",
   "metadata": {},
   "source": [
    "Editing Retrieving DataFrame\n",
    "---"
   ]
  },
  {
   "cell_type": "code",
   "execution_count": 6,
   "metadata": {},
   "outputs": [
    {
     "name": "stdout",
     "output_type": "stream",
     "text": [
      "df_1: \n",
      "    C   D   E\n",
      "A  30  21  48\n",
      "B  40  11  22\n",
      "df_1['C']: \n",
      "A    30\n",
      "B    40\n",
      "Name: C, dtype: int64\n",
      "df_1[['C','E']]: \n",
      "    C   E\n",
      "A  30  48\n",
      "B  40  22\n"
     ]
    }
   ],
   "source": [
    "print('df_1: \\n{}'.format(df_1))\n",
    "print(\"df_1['C']: \\n{}\".format(df_1['C']))\n",
    "print(\"df_1[['C','E']]: \\n{}\".format(df_1[['C','E']]))"
   ]
  },
  {
   "cell_type": "code",
   "execution_count": 7,
   "metadata": {},
   "outputs": [
    {
     "name": "stdout",
     "output_type": "stream",
     "text": [
      "df_1.loc['A']: \n",
      "C    30\n",
      "D    21\n",
      "E    48\n",
      "Name: A, dtype: int64\n",
      "df_1.iloc[1]: \n",
      "C    30\n",
      "D    21\n",
      "E    48\n",
      "Name: A, dtype: int64\n",
      "df1.loc['A','C']: \n",
      "30\n",
      "df1.iloc[['A','B'],['D','E']]: \n",
      "    D   E\n",
      "A  21  48\n",
      "B  11  22\n"
     ]
    }
   ],
   "source": [
    "print(\"df_1.loc['A']: \\n{}\".format(df_1.loc['A']))\n",
    "print(\"df_1.iloc[1]: \\n{}\".format(df_1.iloc[0]))\n",
    "print(\"df1.loc['A','C']: \\n{}\".format(df_1.loc['A','C']))\n",
    "print(\"df1.iloc[['A','B'],['D','E']]: \\n{}\".format(df_1.loc[['A','B'],['D','E']]))"
   ]
  },
  {
   "cell_type": "code",
   "execution_count": 8,
   "metadata": {},
   "outputs": [
    {
     "name": "stdout",
     "output_type": "stream",
     "text": [
      "df_1: \n",
      "    C   D   E  total\n",
      "A  30  21  48     99\n",
      "B  40  11  22     73\n",
      "df_1: \n",
      "    C   D   E  total\n",
      "A  30  21  48   99.0\n",
      "B  40  11  22   73.0\n",
      "F  44  45  46    NaN\n"
     ]
    },
    {
     "name": "stderr",
     "output_type": "stream",
     "text": [
      "/var/folders/s6/49yqjfdd0bq687nzbtmxb6x40000gn/T/ipykernel_3124/4288315374.py:5: FutureWarning: The frame.append method is deprecated and will be removed from pandas in a future version. Use pandas.concat instead.\n",
      "  df_1 = df_1.append(new_row)\n"
     ]
    }
   ],
   "source": [
    "df_1['total'] = df_1['C']+df_1['D']+df_1['E']\n",
    "print('df_1: \\n{}'.format(df_1))\n",
    "dict_3 = {'C':44,'D':45,'E':46}\n",
    "new_row = pd.Series(dict_3, name='F')\n",
    "df_1 = df_1.append(new_row) \n",
    "print('df_1: \\n{}'.format(df_1))"
   ]
  },
  {
   "cell_type": "code",
   "execution_count": 9,
   "metadata": {},
   "outputs": [
    {
     "name": "stdout",
     "output_type": "stream",
     "text": [
      "df_1: \n",
      "    C   D   E\n",
      "A  30  21  48\n",
      "F  44  45  46\n"
     ]
    }
   ],
   "source": [
    "df_1.drop('total', axis=1, inplace=True)\n",
    "df_1.drop('B', axis=0, inplace=True)\n",
    "print('df_1: \\n{}'.format(df_1))"
   ]
  },
  {
   "cell_type": "code",
   "execution_count": 10,
   "metadata": {},
   "outputs": [
    {
     "name": "stdout",
     "output_type": "stream",
     "text": [
      "df_1: \n",
      "        C   D   E\n",
      "Sex              \n",
      "Men    30  21  48\n",
      "Woman  44  45  46\n",
      "df_1: \n",
      "     Sex   C   D   E\n",
      "0    Men  30  21  48\n",
      "1  Woman  44  45  46\n"
     ]
    }
   ],
   "source": [
    "df_1['Sex'] = ['Men', 'Woman']\n",
    "df_1.set_index('Sex', inplace=True)\n",
    "print('df_1: \\n{}'.format(df_1))\n",
    "df_1.reset_index(inplace=True)\n",
    "print('df_1: \\n{}'.format(df_1))"
   ]
  },
  {
   "cell_type": "code",
   "execution_count": 11,
   "metadata": {},
   "outputs": [
    {
     "name": "stdout",
     "output_type": "stream",
     "text": [
      "df_1.assign(div=df_1['C']/df_1['E']): \n",
      "     Sex   C   D   E       div\n",
      "0    Men  30  21  48  0.625000\n",
      "1  Woman  44  45  46  0.956522\n",
      "df_1.assign(mul=x['C']*x['E']): \n",
      "     Sex   C   D   E   mul\n",
      "0    Men  30  21  48  1440\n",
      "1  Woman  44  45  46  2024\n"
     ]
    }
   ],
   "source": [
    "print(\"df_1.assign(div=df_1['C']/df_1['E']): \\n{}\".format(df_1.assign(div=df_1['C']/df_1['E'])))\n",
    "print(\"df_1.assign(mul=x['C']*x['E']): \\n{}\".format(df_1.assign(mul=lambda x : x['C']*x['E'])))"
   ]
  },
  {
   "cell_type": "code",
   "execution_count": 12,
   "metadata": {},
   "outputs": [
    {
     "name": "stdout",
     "output_type": "stream",
     "text": [
      "df_3.combine_first(df_4): \n",
      "     A\n",
      "0  1.0\n",
      "1  4.0\n",
      "2  8.0\n",
      "3  5.0\n"
     ]
    }
   ],
   "source": [
    "df_3 = pd.DataFrame({'A':[1, np.nan, 8, np.nan]})\n",
    "df_4 = pd.DataFrame({'A':[2, 4, 7, 5]})\n",
    "print('df_3.combine_first(df_4): \\n{}'.format(df_3.combine_first(df_4)))"
   ]
  },
  {
   "cell_type": "markdown",
   "metadata": {},
   "source": [
    "Conditional Selection\n",
    "---"
   ]
  },
  {
   "cell_type": "code",
   "execution_count": 13,
   "metadata": {},
   "outputs": [
    {
     "name": "stdout",
     "output_type": "stream",
     "text": [
      "df_5: \n",
      "    C   D   E\n",
      "A  18  47  20\n",
      "B  30  14  39\n",
      "df_5.gt(40): \n",
      "       C      D      E\n",
      "A  False   True  False\n",
      "B  False  False  False\n",
      "df_5 > 40: \n",
      "       C      D      E\n",
      "A  False   True  False\n",
      "B  False  False  False\n"
     ]
    }
   ],
   "source": [
    "array_3 = np.random.randint(10, 50, size=(2,3))\n",
    "df_5 = pd.DataFrame(array_3, index=['A', 'B'], columns=['C','D','E'])\n",
    "print('df_5: \\n{}'.format(df_5))\n",
    "print('df_5.gt(40): \\n{}'.format(df_5.gt(40))) # gt, lt, ge, le, eq, ne\n",
    "print('df_5 > 40: \\n{}'.format(df_5 > 40))"
   ]
  },
  {
   "cell_type": "code",
   "execution_count": 14,
   "metadata": {},
   "outputs": [
    {
     "name": "stdout",
     "output_type": "stream",
     "text": [
      "bool_1: \n",
      "       C      D      E\n",
      "A  False   True  False\n",
      "B  False  False   True\n",
      "df_5[bool_1,]: \n",
      "    C     D     E\n",
      "A NaN  47.0   NaN\n",
      "B NaN   NaN  39.0\n",
      "df_5[df_5['E']>30]: \n",
      "    C   D   E\n",
      "B  30  14  39\n"
     ]
    }
   ],
   "source": [
    "bool_1 = df_5 >= 35\n",
    "print('bool_1: \\n{}'.format(bool_1))\n",
    "print('df_5[bool_1,]: \\n{}'.format(df_5[bool_1]))\n",
    "print(\"df_5[df_5['E']>30]: \\n{}\".format(df_5[df_5['E']>30]))"
   ]
  },
  {
   "cell_type": "code",
   "execution_count": 15,
   "metadata": {},
   "outputs": [
    {
     "name": "stdout",
     "output_type": "stream",
     "text": [
      "df_6: \n",
      "   X  Y  Z\n",
      "A  1  2  3\n",
      "B  4  5  6\n",
      "C  7  8  9\n",
      "df_6[(df_6['X']>3)&(df_6['X']<7)]: \n",
      "   X  Y  Z\n",
      "B  4  5  6\n",
      "df_6[(df_6['X']<3)|(df_6['X']>6)]: \n",
      "   X  Y  Z\n",
      "A  1  2  3\n",
      "C  7  8  9\n"
     ]
    }
   ],
   "source": [
    "array_4 = np.array([[1,2,3], [4,5,6], [7,8,9]])\n",
    "df_6 = pd.DataFrame(array_4, ['A','B','C'], ['X','Y','Z'])\n",
    "print('df_6: \\n{}'.format(df_6))\n",
    "print(\"df_6[(df_6['X']>3)&(df_6['X']<7)]: \\n{}\".format(df_6[(df_6['X']>3)&(df_6['X']<7)]))\n",
    "print(\"df_6[(df_6['X']<3)|(df_6['X']>6)]: \\n{}\".format(df_6[(df_6['X']<3)|(df_6['X']>6)]))"
   ]
  },
  {
   "cell_type": "markdown",
   "metadata": {},
   "source": [
    "File Input / Output\n",
    "---\n",
    "## Pandas can work with the following types of data:  \n",
    "&emsp;***CSV, Plain Text, Json, XML, PDF, SQL, HTML, XLSX, DOCX, ZIP, Images, Hierarchical Data Format, MP3 & MP4***"
   ]
  },
  {
   "cell_type": "code",
   "execution_count": 16,
   "metadata": {},
   "outputs": [
    {
     "name": "stdout",
     "output_type": "stream",
     "text": [
      "cs_df_st: \n",
      "0     OH\n",
      "1     WV\n",
      "2     PA\n",
      "3     PA\n",
      "4     PA\n",
      "      ..\n",
      "34    NY\n",
      "35    NY\n",
      "36    PA\n",
      "37    PA\n",
      "38    PA\n",
      "Name: State, Length: 39, dtype: object\n"
     ]
    },
    {
     "name": "stderr",
     "output_type": "stream",
     "text": [
      "/var/folders/s6/49yqjfdd0bq687nzbtmxb6x40000gn/T/ipykernel_3124/353443192.py:1: FutureWarning: The squeeze argument has been deprecated and will be removed in a future version. Append .squeeze(\"columns\") to the call to squeeze.\n",
      "\n",
      "\n",
      "  cs_df_st = pd.read_csv('data/pandas/ComputerSales.csv', usecols=['State'], squeeze=True)\n"
     ]
    }
   ],
   "source": [
    "cs_df_st = pd.read_csv('data/pandas/ComputerSales.csv', usecols=['State'], squeeze=True)\n",
    "print('cs_df_st: \\n{}'.format(cs_df_st))"
   ]
  },
  {
   "cell_type": "markdown",
   "metadata": {},
   "source": [
    "Basic & Math\n",
    "---"
   ]
  },
  {
   "cell_type": "code",
   "execution_count": 17,
   "metadata": {},
   "outputs": [
    {
     "name": "stdout",
     "output_type": "stream",
     "text": [
      "cs_df: \n",
      "    Sale ID          Contact Sex  Age State Product ID Product Type  Sale Price  Profit     Lead     Month  Year\n",
      "0         1      Paul Thomas   M   43    OH  M01-F0024      Desktop      479.99  143.39  Website   January  2018\n",
      "1         2      Margo Simms   F   37    WV  GT13-0024      Desktop     1249.99  230.89  Flyer 4   January  2018\n",
      "2         3        Sam Stine   M   26    PA      I3670      Desktop      649.99  118.64  Website  February  2018\n",
      "3         4       Moe Eggert   M   35    PA      I3593       Laptop      399.99   72.09  Website     March  2018\n",
      "4         5      Jessica Elk   F   55    PA     15M-ED       Laptop      699.99   98.09  Flyer 4     March  2018\n",
      "..      ...              ...  ..  ...   ...        ...          ...         ...     ...      ...       ...   ...\n",
      "34       35   Michelle Samms   F   46    NY    MY2J2LL       Tablet      999.99  146.69  Website     April  2020\n",
      "35       36  Sally Struthers   F   45    NY     81TC00       Laptop      649.99  122.34  Website     April  2020\n",
      "36       37       Jason Case   M   57    PA  M01-F0024      Desktop      479.99  143.39  Flyer 4     April  2020\n",
      "37       38     Doug Johnson   M   51    PA    GA401IV       Laptop     1349.99  180.34  Website       May  2020\n",
      "38       39       Moe Eggert   M   35    PA      I3593       Laptop      399.99   72.09  Website       May  2020\n",
      "\n",
      "[39 rows x 12 columns]\n"
     ]
    }
   ],
   "source": [
    "cs_df = pd.read_csv('data/pandas/ComputerSales.csv')\n",
    "print('cs_df: \\n{}'.format(cs_df))"
   ]
  },
  {
   "cell_type": "code",
   "execution_count": 18,
   "metadata": {},
   "outputs": [
    {
     "name": "stdout",
     "output_type": "stream",
     "text": [
      "cs_df.head(): \n",
      "   Sale ID      Contact Sex  Age State Product ID Product Type  Sale Price  Profit     Lead     Month  Year\n",
      "0        1  Paul Thomas   M   43    OH  M01-F0024      Desktop      479.99  143.39  Website   January  2018\n",
      "1        2  Margo Simms   F   37    WV  GT13-0024      Desktop     1249.99  230.89  Flyer 4   January  2018\n",
      "2        3    Sam Stine   M   26    PA      I3670      Desktop      649.99  118.64  Website  February  2018\n",
      "3        4   Moe Eggert   M   35    PA      I3593       Laptop      399.99   72.09  Website     March  2018\n",
      "4        5  Jessica Elk   F   55    PA     15M-ED       Laptop      699.99   98.09  Flyer 4     March  2018\n",
      "cs_df.tail(): \n",
      "    Sale ID          Contact Sex  Age State Product ID Product Type  Sale Price  Profit     Lead  Month  Year\n",
      "34       35   Michelle Samms   F   46    NY    MY2J2LL       Tablet      999.99  146.69  Website  April  2020\n",
      "35       36  Sally Struthers   F   45    NY     81TC00       Laptop      649.99  122.34  Website  April  2020\n",
      "36       37       Jason Case   M   57    PA  M01-F0024      Desktop      479.99  143.39  Flyer 4  April  2020\n",
      "37       38     Doug Johnson   M   51    PA    GA401IV       Laptop     1349.99  180.34  Website    May  2020\n",
      "38       39       Moe Eggert   M   35    PA      I3593       Laptop      399.99   72.09  Website    May  2020\n"
     ]
    }
   ],
   "source": [
    "print('cs_df.head(): \\n{}'.format(cs_df.head()))\n",
    "print('cs_df.tail(): \\n{}'.format(cs_df.tail()))"
   ]
  },
  {
   "cell_type": "code",
   "execution_count": 19,
   "metadata": {},
   "outputs": [
    {
     "name": "stdout",
     "output_type": "stream",
     "text": [
      "cs_df[:2]: \n",
      "   Sale ID      Contact Sex  Age State Product ID Product Type  Sale Price  Profit     Lead    Month  Year\n",
      "0        1  Paul Thomas   M   43    OH  M01-F0024      Desktop      479.99  143.39  Website  January  2018\n",
      "1        2  Margo Simms   F   37    WV  GT13-0024      Desktop     1249.99  230.89  Flyer 4  January  2018\n",
      "cs_df[:5:2]: \n",
      "   Sale ID      Contact Sex  Age State Product ID Product Type  Sale Price  Profit     Lead     Month  Year\n",
      "0        1  Paul Thomas   M   43    OH  M01-F0024      Desktop      479.99  143.39  Website   January  2018\n",
      "2        3    Sam Stine   M   26    PA      I3670      Desktop      649.99  118.64  Website  February  2018\n",
      "4        5  Jessica Elk   F   55    PA     15M-ED       Laptop      699.99   98.09  Flyer 4     March  2018\n"
     ]
    }
   ],
   "source": [
    "print('cs_df[:2]: \\n{}'.format(cs_df[:2]))\n",
    "print('cs_df[:5:2]: \\n{}'.format(cs_df[:5:2]))"
   ]
  },
  {
   "cell_type": "code",
   "execution_count": 20,
   "metadata": {},
   "outputs": [
    {
     "name": "stdout",
     "output_type": "stream",
     "text": [
      "cs_df.index.array: \n",
      "<PandasArray>\n",
      "[0, 1, 2, 3, 4, 5, 6, 7, 8, 9, 10, 11, 12, 13, 14, 15, 16, 17, 18, 19, 20, 21, 22, 23, 24, 25, 26, 27, 28, 29, 30, 31, 32, 33, 34, 35, 36, 37, 38]\n",
      "Length: 39, dtype: int64\n",
      "<class 'pandas.core.arrays.numpy_.PandasArray'>\n"
     ]
    }
   ],
   "source": [
    "print('cs_df.index.array: \\n{}'.format(cs_df.index.array))\n",
    "print(type(cs_df.index.array))"
   ]
  },
  {
   "cell_type": "code",
   "execution_count": 21,
   "metadata": {},
   "outputs": [
    {
     "name": "stdout",
     "output_type": "stream",
     "text": [
      "cs_df.to_numpy(): \n",
      "[[1 'Paul Thomas' 'M' 43 'OH' 'M01-F0024' 'Desktop' 479.99 143.39 'Website' 'January' 2018]\n",
      " [2 'Margo Simms' 'F' 37 'WV' 'GT13-0024' 'Desktop' 1249.99 230.89 'Flyer 4' 'January' 2018]\n",
      " [3 'Sam Stine' 'M' 26 'PA' 'I3670' 'Desktop' 649.99 118.64 'Website' 'February' 2018]\n",
      " [4 'Moe Eggert' 'M' 35 'PA' 'I3593' 'Laptop' 399.99 72.09 'Website' 'March' 2018]\n",
      " [5 'Jessica Elk' 'F' 55 'PA' '15M-ED' 'Laptop' 699.99 98.09 'Flyer 4' 'March' 2018]\n",
      " [6 'Sally Struthers' 'F' 45 'PA' 'GT13-0024' 'Desktop' 1249.99 230.89 'Flyer 2' 'April' 2018]\n",
      " [7 'Michelle Samms' 'F' 46 'OH' 'GA401IV' 'Laptop' 1349.99 180.34 'Email' 'May' 2018]\n",
      " [8 'Mick Roberts' 'M' 23 'OH' 'MY2J2LL' 'Tablet' 999.99 146.69 'Website' 'July' 2018]\n",
      " [9 'Ed Klondike' 'M' 52 'OH' '81TC00' 'Laptop' 649.99 122.34 'Email' 'July' 2018]\n",
      " [10 'Phil Jones' 'M' 56 'WV' 'M01-F0024' 'Desktop' 479.99 143.39 'Flyer 2' 'August' 2018]\n",
      " [11 'Rick James' 'M' 49 'PA' 'GA401IV' 'Laptop' 1349.99 180.34 'Flyer 3' 'November' 2018]\n",
      " [12 'Sue Etna' 'F' 54 'OH' 'GT13-0024' 'Desktop' 1249.99 230.89 'Flyer 2' 'November' 2018]\n",
      " [13 'Jason Case' 'M' 57 'PA' '81TC00' 'Laptop' 649.99 122.34 'Email' 'November' 2018]\n",
      " [14 'Doug Johnson' 'M' 51 'PA' 'I3670' 'Desktop' 649.99 118.64 'Website' 'December' 2018]\n",
      " [15 'Andy Sands' 'M' 56 'OH' 'MY2J2LL' 'Tablet' 999.99 146.69 'Flyer 1' 'December' 2018]\n",
      " [16 'Kim Collins' 'F' 49 'PA' 'I3593' 'Laptop' 399.99 72.09 'Flyer 2' 'January' 2019]\n",
      " [17 'Edna Sanders' 'F' 46 'OH' '15M-ED' 'Laptop' 699.99 98.09 'Email' 'February' 2019]\n",
      " [18 'Michelle Samms' 'F' 46 'NY' 'MY2J2LL' 'Tablet' 999.99 146.69 'Website' 'March' 2019]\n",
      " [19 'Mick Roberts' 'M' 23 'PA' 'I3593' 'Laptop' 399.99 72.09 'Flyer 4' 'March' 2019]\n",
      " [20 'Sally Struthers' 'F' 45 'NY' '81TC00' 'Laptop' 649.99 122.34 'Website' 'April' 2019]\n",
      " [21 'Jason Case' 'M' 57 'PA' 'M01-F0024' 'Desktop' 479.99 143.39 'Flyer 4' 'May' 2019]\n",
      " [22 'Doug Johnson' 'M' 51 'PA' 'GA401IV' 'Laptop' 1349.99 180.34 'Website' 'August' 2019]\n",
      " [23 'Paul Thomas' 'M' 43 'OH' '81TC00' 'Laptop' 649.99 122.34 'Website' 'August' 2019]\n",
      " [24 'Margo Simms' 'F' 37 'WV' 'Q526FA' 'Laptop' 1049.99 143.09 'Flyer 4' 'November' 2019]\n",
      " [25 'Michelle Samms' 'F' 46 'NY' 'I3670' 'Desktop' 649.99 118.64 'Flyer 2' 'November' 2019]\n",
      " [26 'Mick Roberts' 'M' 23 'PA' 'Q526FA' 'Laptop' 1049.99 143.09 'Email' 'November' 2019]\n",
      " [27 'Ed Klondike' 'M' 52 'OH' 'Q526FA' 'Laptop' 1049.99 143.09 'Website' 'December' 2019]\n",
      " [28 'Moe Eggert' 'M' 35 'PA' '15M-ED' 'Laptop' 699.99 98.09 'Email' 'December' 2019]\n",
      " [29 'Jessica Elk' 'F' 55 'PA' 'GA401IV' 'Laptop' 1349.99 180.34 'Flyer 2' 'December' 2019]\n",
      " [30 'Phil Jones' 'M' 56 'WV' 'M01-F0024' 'Desktop' 479.99 143.39 'Flyer 2' 'January' 2020]\n",
      " [31 'Rick James' 'M' 49 'PA' 'GA401IV' 'Laptop' 1349.99 180.34 'Flyer 1' 'January' 2020]\n",
      " [32 'Sue Etna' 'F' 54 'OH' 'GT13-0024' 'Desktop' 1249.99 230.89 'Flyer 2' 'February' 2020]\n",
      " [33 'Kim Collins' 'F' 49 'PA' 'I3593' 'Laptop' 399.99 72.09 'Flyer 2' 'March' 2020]\n",
      " [34 'Edna Sanders' 'F' 46 'OH' '15M-ED' 'Laptop' 699.99 98.09 'Email' 'March' 2020]\n",
      " [35 'Michelle Samms' 'F' 46 'NY' 'MY2J2LL' 'Tablet' 999.99 146.69 'Website' 'April' 2020]\n",
      " [36 'Sally Struthers' 'F' 45 'NY' '81TC00' 'Laptop' 649.99 122.34 'Website' 'April' 2020]\n",
      " [37 'Jason Case' 'M' 57 'PA' 'M01-F0024' 'Desktop' 479.99 143.39 'Flyer 4' 'April' 2020]\n",
      " [38 'Doug Johnson' 'M' 51 'PA' 'GA401IV' 'Laptop' 1349.99 180.34 'Website' 'May' 2020]\n",
      " [39 'Moe Eggert' 'M' 35 'PA' 'I3593' 'Laptop' 399.99 72.09 'Website' 'May' 2020]]\n",
      "<class 'numpy.ndarray'>\n"
     ]
    }
   ],
   "source": [
    "np.set_printoptions(linewidth=np.inf)\n",
    "print(\"cs_df.to_numpy(): \\n{}\".format(cs_df.to_numpy()))\n",
    "print(type(cs_df.to_numpy()))"
   ]
  },
  {
   "cell_type": "code",
   "execution_count": 22,
   "metadata": {},
   "outputs": [
    {
     "name": "stdout",
     "output_type": "stream",
     "text": [
      "ser_1.array: \n",
      "<PandasArray>\n",
      "['a', 'b', 'c', 'd']\n",
      "Length: 4, dtype: object\n",
      "ser_1.to_numpy(): \n",
      "['a' 'b' 'c' 'd']\n"
     ]
    }
   ],
   "source": [
    "print('ser_1.array: \\n{}'.format(ser_1.array))\n",
    "print('ser_1.to_numpy(): \\n{}'.format(ser_1.to_numpy()))"
   ]
  },
  {
   "cell_type": "code",
   "execution_count": 23,
   "metadata": {},
   "outputs": [
    {
     "name": "stdout",
     "output_type": "stream",
     "text": [
      "df_7: \n",
      "   one  two\n",
      "a  1.0  1.0\n",
      "b  2.0  2.0\n",
      "c  3.0  NaN\n",
      "d  NaN  4.0\n",
      "df_7: \n",
      "   one  two\n",
      "a  1.0  1.0\n",
      "b  2.0  2.0\n",
      "c  3.0  0.0\n",
      "d  0.0  4.0\n"
     ]
    }
   ],
   "source": [
    "dict_4 = {'one':pd.Series([1.,2.,3.], index=['a', 'b', 'c']), \n",
    "            'two':pd.Series([1.,2.,np.nan,4.], index=['a', 'b', 'c', 'd'])}\n",
    "df_7 = pd.DataFrame(dict_4)\n",
    "print('df_7: \\n{}'.format(df_7))\n",
    "df_7.fillna(0, inplace=True)\n",
    "print(\"df_7: \\n{}\".format(df_7))"
   ]
  },
  {
   "cell_type": "code",
   "execution_count": 24,
   "metadata": {},
   "outputs": [
    {
     "name": "stdout",
     "output_type": "stream",
     "text": [
      "df_7.add(row,axis=1): \n",
      "   one  two\n",
      "a  3.0  3.0\n",
      "b  4.0  4.0\n",
      "c  5.0  2.0\n",
      "d  2.0  6.0\n",
      "df_7.sub(col, axis=0): \n",
      "   one  two\n",
      "a  0.0  0.0\n",
      "b  0.0  0.0\n",
      "c  3.0  0.0\n",
      "d -4.0  0.0\n"
     ]
    }
   ],
   "source": [
    "row = df_7.iloc[1]\n",
    "print(\"df_7.add(row,axis=1): \\n{}\".format(df_7.add(row, axis=1)))\n",
    "col = df_7['two']\n",
    "print('df_7.sub(col, axis=0): \\n{}'.format(df_7.sub(col, axis=0)))"
   ]
  },
  {
   "cell_type": "code",
   "execution_count": 25,
   "metadata": {},
   "outputs": [
    {
     "name": "stdout",
     "output_type": "stream",
     "text": [
      "df_8: \n",
      "   A  B\n",
      "0  0  1\n",
      "1  1  2\n",
      "2  2  3\n",
      "df_8.transform(lambda x: x**2): \n",
      "   A  B\n",
      "0  0  1\n",
      "1  1  4\n",
      "2  4  9\n",
      "df_8.transform(['A': lambda x: x**2, 'B': lambda x: x**3]): \n",
      "   A   B\n",
      "0  0   1\n",
      "1  1   8\n",
      "2  4  27\n"
     ]
    }
   ],
   "source": [
    "df_8 = pd.DataFrame({'A': range(3), 'B': range(1,4)})\n",
    "print('df_8: \\n{}'.format(df_8))\n",
    "print('df_8.transform(lambda x: x**2): \\n{}'.format(df_8.transform(lambda x: x**2)))\n",
    "print(\"df_8.transform(['A': lambda x: x**2, 'B': lambda x: x**3]): \\n{}\".format(\n",
    "    df_8.transform({'A': lambda x: x**2, 'B': lambda x: x**3})))"
   ]
  },
  {
   "cell_type": "code",
   "execution_count": 26,
   "metadata": {},
   "outputs": [
    {
     "name": "stdout",
     "output_type": "stream",
     "text": [
      "df_8['A'].map(lambda x: x**2): \n",
      "0    0\n",
      "1    1\n",
      "2    4\n",
      "Name: A, dtype: int64\n",
      "df_8.applymap(lambda x: x**2): \n",
      "   A  B\n",
      "0  0  1\n",
      "1  1  4\n",
      "2  4  9\n"
     ]
    }
   ],
   "source": [
    "print(\"df_8['A'].map(lambda x: x**2): \\n{}\".format(df_8['A'].map(lambda x: x**2)))\n",
    "print('df_8.applymap(lambda x: x**2): \\n{}'.format(df_8.applymap(lambda x: x**2)))"
   ]
  },
  {
   "cell_type": "code",
   "execution_count": 27,
   "metadata": {},
   "outputs": [
    {
     "name": "stdout",
     "output_type": "stream",
     "text": [
      "df_9['A'].unique(): [1 2]\n",
      "df_9['A'].nunique(): 2\n",
      "df_9['A'].count(): 3\n",
      "df_9['A'].value_counts(): \n",
      "2    2\n",
      "1    1\n",
      "Name: A, dtype: int64\n",
      "df_9.index: Index(['C', 'D', 'E'], dtype='object')\n",
      "df_9.columns: Index(['A', 'B'], dtype='object')\n",
      "df_9.isnull(): \n",
      "       A      B\n",
      "C  False  False\n",
      "D  False  False\n",
      "E  False  False\n"
     ]
    }
   ],
   "source": [
    "df_9 = pd.DataFrame({'A': [1,2,2], 'B': range(1,4)}, index=['C', 'D', 'E'])\n",
    "print(\"df_9['A'].unique(): {}\".format(df_9['A'].unique()))\n",
    "print(\"df_9['A'].nunique(): {}\".format(df_9['A'].nunique()))\n",
    "print(\"df_9['A'].count(): {}\".format(df_9['A'].count()))\n",
    "print(\"df_9['A'].value_counts(): \\n{}\".format(df_9['A'].value_counts()))\n",
    "print('df_9.index: {}'.format(df_9.index))\n",
    "print('df_9.columns: {}'.format(df_9.columns))\n",
    "print('df_9.isnull(): \\n{}'.format(df_9.isnull()))"
   ]
  },
  {
   "cell_type": "markdown",
   "metadata": {},
   "source": [
    "Group Data\n",
    "---"
   ]
  },
  {
   "cell_type": "code",
   "execution_count": 28,
   "metadata": {},
   "outputs": [
    {
     "name": "stdout",
     "output_type": "stream",
     "text": [
      "df_10: \n",
      "   Store Flavor  Sales\n",
      "0      1   Choc     26\n",
      "1      2    Van     12\n",
      "2      1  Straw     18\n",
      "3      2   Choc     22\n"
     ]
    }
   ],
   "source": [
    "dict_5 = {'Store': [1, 2, 1, 2], 'Flavor': ['Choc', 'Van', 'Straw', 'Choc'], 'Sales': [26, 12, 18, 22]}\n",
    "df_10 = pd.DataFrame(dict_5)\n",
    "print('df_10: \\n{}'.format(df_10))"
   ]
  },
  {
   "cell_type": "code",
   "execution_count": 29,
   "metadata": {},
   "outputs": [
    {
     "name": "stdout",
     "output_type": "stream",
     "text": [
      "type(by_store): <class 'pandas.core.groupby.generic.DataFrameGroupBy'>\n",
      "by_store: <pandas.core.groupby.generic.DataFrameGroupBy object at 0x11df54fd0>\n",
      "by_store.mean(): \n",
      "       Sales\n",
      "Store       \n",
      "1       22.0\n",
      "2       17.0\n",
      "by_store.sum().loc[1]: \n",
      "Sales    44\n",
      "Name: 1, dtype: int64\n",
      "by_store.describe(): \n",
      "      Sales                                              \n",
      "      count  mean       std   min   25%   50%   75%   max\n",
      "Store                                                    \n",
      "1       2.0  22.0  5.656854  18.0  20.0  22.0  24.0  26.0\n",
      "2       2.0  17.0  7.071068  12.0  14.5  17.0  19.5  22.0\n"
     ]
    },
    {
     "name": "stderr",
     "output_type": "stream",
     "text": [
      "/var/folders/s6/49yqjfdd0bq687nzbtmxb6x40000gn/T/ipykernel_3124/2921667433.py:4: FutureWarning: The default value of numeric_only in DataFrameGroupBy.mean is deprecated. In a future version, numeric_only will default to False. Either specify numeric_only or select only columns which should be valid for the function.\n",
      "  print('by_store.mean(): \\n{}'.format(by_store.mean()))\n",
      "/var/folders/s6/49yqjfdd0bq687nzbtmxb6x40000gn/T/ipykernel_3124/2921667433.py:5: FutureWarning: The default value of numeric_only in DataFrameGroupBy.sum is deprecated. In a future version, numeric_only will default to False. Either specify numeric_only or select only columns which should be valid for the function.\n",
      "  print('by_store.sum().loc[1]: \\n{}'.format(by_store.sum().loc[1]))\n"
     ]
    }
   ],
   "source": [
    "by_store = df_10.groupby('Store')\n",
    "print('type(by_store): {}'.format(type(by_store)))\n",
    "print('by_store: {}'.format(by_store))\n",
    "print('by_store.mean(): \\n{}'.format(by_store.mean()))\n",
    "print('by_store.sum().loc[1]: \\n{}'.format(by_store.sum().loc[1]))\n",
    "print('by_store.describe(): \\n{}'.format(by_store.describe()))"
   ]
  },
  {
   "cell_type": "markdown",
   "metadata": {},
   "source": [
    "Concatenate Merge & Join Data\n",
    "---"
   ]
  },
  {
   "cell_type": "code",
   "execution_count": 30,
   "metadata": {},
   "outputs": [
    {
     "name": "stdout",
     "output_type": "stream",
     "text": [
      "pd.concat([df_11, df_12]): \n",
      "   A   B\n",
      "1  1   4\n",
      "2  2   5\n",
      "3  3   6\n",
      "4  7  10\n",
      "5  8  11\n",
      "6  9  12\n"
     ]
    }
   ],
   "source": [
    "df_11 = pd.DataFrame({'A': [1,2,3], 'B': [4,5,6]}, index = [1,2,3])\n",
    "df_12 = pd.DataFrame({'A': [7,8,9], 'B': [10,11,12]}, index = [4,5,6])\n",
    "print('pd.concat([df_11, df_12]): \\n{}'.format(pd.concat([df_11, df_12])))"
   ]
  },
  {
   "cell_type": "code",
   "execution_count": 31,
   "metadata": {},
   "outputs": [
    {
     "name": "stdout",
     "output_type": "stream",
     "text": [
      "pd.merge(df_13, df_14, how='inner', on='key'): \n",
      "   A_x  B_x  key  A_y  B_y\n",
      "0    1    4    1    7   10\n",
      "1    2    5    2    8   11\n",
      "2    3    6    3    9   12\n"
     ]
    }
   ],
   "source": [
    "df_13 = pd.DataFrame({'A': [1,2,3], 'B': [4,5,6], 'key': [1,2,3]})\n",
    "df_14 = pd.DataFrame({'A': [7,8,9], 'B': [10,11,12], 'key': [1,2,3]})\n",
    "print(\"pd.merge(df_13, df_14, how='inner', on='key'): \\n{}\".format(pd.merge(df_13, df_14, how='inner', on='key')))"
   ]
  },
  {
   "cell_type": "code",
   "execution_count": 32,
   "metadata": {},
   "outputs": [
    {
     "name": "stdout",
     "output_type": "stream",
     "text": [
      "df_15.join(df_16, how='outer'): \n",
      "     A    B    C     D\n",
      "1  1.0  4.0  7.0  10.0\n",
      "2  2.0  5.0  NaN   NaN\n",
      "3  3.0  6.0  NaN   NaN\n",
      "4  NaN  NaN  8.0  11.0\n",
      "5  NaN  NaN  9.0  12.0\n"
     ]
    }
   ],
   "source": [
    "df_15 = pd.DataFrame({'A': [1,2,3], 'B': [4,5,6]}, index = [1,2,3])\n",
    "df_16 = pd.DataFrame({'C': [7,8,9], 'D': [10,11,12]}, index = [1,4,5])\n",
    "print(\"df_15.join(df_16, how='outer'): \\n{}\".format(df_15.join(df_16, how='outer')))"
   ]
  },
  {
   "cell_type": "markdown",
   "metadata": {},
   "source": [
    "Statistics\n",
    "---"
   ]
  },
  {
   "cell_type": "code",
   "execution_count": 33,
   "metadata": {},
   "outputs": [
    {
     "name": "stdout",
     "output_type": "stream",
     "text": [
      "ics_df: \n",
      "    Temperature  Sales\n",
      "0            37    292\n",
      "1            40    228\n",
      "2            49    324\n",
      "3            61    376\n",
      "4            72    440\n",
      "..          ...    ...\n",
      "7            81    556\n",
      "8            75    496\n",
      "9            64    412\n",
      "10           53    324\n",
      "11           40    320\n",
      "\n",
      "[12 rows x 2 columns]\n"
     ]
    }
   ],
   "source": [
    "ics_df = pd.read_csv('data/pandas/icecreamsales.csv')\n",
    "print('ics_df: \\n{}'.format(ics_df))"
   ]
  },
  {
   "cell_type": "code",
   "execution_count": 34,
   "metadata": {},
   "outputs": [
    {
     "name": "stdout",
     "output_type": "stream",
     "text": [
      "ics_df.count(): \n",
      "Temperature    12\n",
      "Sales          12\n",
      "dtype: int64\n",
      "ics_df.sum(): \n",
      "Temperature     734\n",
      "Sales          4800\n",
      "dtype: int64\n",
      "ics_df.sum(skipna=True): \n",
      "Temperature     734\n",
      "Sales          4800\n",
      "dtype: int64\n",
      "ics_df.describe(): \n",
      "       Temperature       Sales\n",
      "count    12.000000   12.000000\n",
      "mean     61.166667  400.000000\n",
      "std      17.055169  105.651227\n",
      "min      37.000000  228.000000\n",
      "25%      46.750000  323.000000\n",
      "50%      62.500000  394.000000\n",
      "75%      76.000000  496.000000\n",
      "max      83.000000  556.000000\n"
     ]
    }
   ],
   "source": [
    "print('ics_df.count(): \\n{}'.format(ics_df.count()))\n",
    "print('ics_df.sum(): \\n{}'.format(ics_df.sum()))\n",
    "print('ics_df.sum(skipna=True): \\n{}'.format(ics_df.sum(skipna=True)))\n",
    "print('ics_df.describe(): \\n{}'.format(ics_df.describe()))"
   ]
  },
  {
   "cell_type": "code",
   "execution_count": 35,
   "metadata": {},
   "outputs": [
    {
     "name": "stdout",
     "output_type": "stream",
     "text": [
      "ics_df['Sales'].mean(): 400.0\n",
      "ics_df['Sales'].median(): 394.0\n",
      "ics_df['Sales'].max(): 556\n",
      "ics_df['Sales'].kurt(): -1.2179973006069797\n",
      "ics_df['Sales'].cumsum(): 0      292\n",
      "1      520\n",
      "2      844\n",
      "3     1220\n",
      "4     1660\n",
      "      ... \n",
      "7     3248\n",
      "8     3744\n",
      "9     4156\n",
      "10    4480\n",
      "11    4800\n",
      "Name: Sales, Length: 12, dtype: int64\n",
      "ics_df['Sales'].cummax(): 0     292\n",
      "1     292\n",
      "2     324\n",
      "3     376\n",
      "4     440\n",
      "     ... \n",
      "7     556\n",
      "8     556\n",
      "9     556\n",
      "10    556\n",
      "11    556\n",
      "Name: Sales, Length: 12, dtype: int64\n"
     ]
    }
   ],
   "source": [
    "print(\"ics_df['Sales'].mean(): {}\".format(ics_df['Sales'].mean()))\n",
    "print(\"ics_df['Sales'].median(): {}\".format(ics_df['Sales'].median()))\n",
    "print(\"ics_df['Sales'].max(): {}\".format(ics_df['Sales'].max()))\n",
    "print(\"ics_df['Sales'].kurt(): {}\".format(ics_df['Sales'].kurt())) # outliers check\n",
    "print(\"ics_df['Sales'].cumsum(): {}\".format(ics_df['Sales'].cumsum()))\n",
    "print(\"ics_df['Sales'].cummax(): {}\".format(ics_df['Sales'].cummax()))\n"
   ]
  },
  {
   "cell_type": "code",
   "execution_count": 36,
   "metadata": {},
   "outputs": [
    {
     "name": "stdout",
     "output_type": "stream",
     "text": [
      "ser_dice.value_counts(): \n",
      "7     6\n",
      "6     5\n",
      "8     5\n",
      "5     4\n",
      "9     4\n",
      "     ..\n",
      "10    3\n",
      "3     2\n",
      "11    2\n",
      "2     1\n",
      "12    1\n",
      "Length: 11, dtype: int64\n"
     ]
    }
   ],
   "source": [
    "ser_dice = pd.Series(data=[2,3,3,4,4,4,5,5,5,5,6,6,6,6,6,7,7,7,7,7,7,8,8,8,8,8,9,9,9,9,10,10,10,11,11,12])\n",
    "print('ser_dice.value_counts(): \\n{}'.format(ser_dice.value_counts()))"
   ]
  },
  {
   "cell_type": "code",
   "execution_count": 37,
   "metadata": {},
   "outputs": [
    {
     "name": "stdout",
     "output_type": "stream",
     "text": [
      "df_5: \n",
      "    C   D   E\n",
      "A  18  47  20\n",
      "B  30  14  39\n",
      "df_5.agg(['mean', 'std']): \n",
      "              C          D          E\n",
      "mean  24.000000  30.500000  29.500000\n",
      "std    8.485281  23.334524  13.435029\n"
     ]
    }
   ],
   "source": [
    "print('df_5: \\n{}'.format(df_5))\n",
    "print(\"df_5.agg(['mean', 'std']): \\n{}\".format(df_5.agg(['mean', 'std'])))"
   ]
  },
  {
   "cell_type": "markdown",
   "metadata": {},
   "source": [
    "Iteration\n",
    "---"
   ]
  },
  {
   "cell_type": "code",
   "execution_count": 38,
   "metadata": {},
   "outputs": [],
   "source": [
    "ser_5 = pd.Series(range(5), index= ['a', 'b', 'c', 'd', 'e'])\n",
    "array_5 = np.random.randint(10, 50, size=(2,3))\n",
    "df_17 = pd.DataFrame(array_5, ['B', 'C'], ['C', 'D', 'E'])"
   ]
  },
  {
   "cell_type": "code",
   "execution_count": 39,
   "metadata": {},
   "outputs": [
    {
     "name": "stdout",
     "output_type": "stream",
     "text": [
      "0\n",
      "1\n",
      "2\n",
      "3\n",
      "4\n"
     ]
    }
   ],
   "source": [
    "for col in ser_5:\n",
    "    print(col)"
   ]
  },
  {
   "cell_type": "code",
   "execution_count": 40,
   "metadata": {},
   "outputs": [
    {
     "name": "stdout",
     "output_type": "stream",
     "text": [
      "label: C\n",
      "ser: \n",
      "B    48\n",
      "C    39\n",
      "Name: C, dtype: int64\n",
      "label: D\n",
      "ser: \n",
      "B    29\n",
      "C    24\n",
      "Name: D, dtype: int64\n",
      "label: E\n",
      "ser: \n",
      "B    16\n",
      "C    19\n",
      "Name: E, dtype: int64\n"
     ]
    }
   ],
   "source": [
    "for label, ser in df_17.items():\n",
    "    print('label: {}'.format(label))\n",
    "    print('ser: \\n{}'.format(ser))"
   ]
  },
  {
   "cell_type": "code",
   "execution_count": 41,
   "metadata": {},
   "outputs": [
    {
     "name": "stdout",
     "output_type": "stream",
     "text": [
      "index: B\n",
      "row: \n",
      "C    48\n",
      "D    29\n",
      "E    16\n",
      "Name: B, dtype: int64\n",
      "index: C\n",
      "row: \n",
      "C    39\n",
      "D    24\n",
      "E    19\n",
      "Name: C, dtype: int64\n"
     ]
    }
   ],
   "source": [
    "for index, row in df_17.iterrows():\n",
    "    print('index: {}'.format(index))\n",
    "    print('row: \\n{}'.format(row))"
   ]
  },
  {
   "cell_type": "code",
   "execution_count": 42,
   "metadata": {},
   "outputs": [
    {
     "name": "stdout",
     "output_type": "stream",
     "text": [
      "Pandas(Index='B', C=48, D=29, E=16)\n",
      "Pandas(Index='C', C=39, D=24, E=19)\n"
     ]
    }
   ],
   "source": [
    "for row in df_17.itertuples():\n",
    "    print(row)"
   ]
  },
  {
   "cell_type": "markdown",
   "metadata": {},
   "source": [
    "Sorting\n",
    "---"
   ]
  },
  {
   "cell_type": "code",
   "execution_count": 43,
   "metadata": {},
   "outputs": [
    {
     "name": "stdout",
     "output_type": "stream",
     "text": [
      "df_17: \n",
      "    C   D   E\n",
      "B  48  29  16\n",
      "C  39  24  19\n",
      "df_17.sort_index(ascending=False): \n",
      "    C   D   E\n",
      "C  39  24  19\n",
      "B  48  29  16\n",
      "df_17.sort_value(by='D'): \n",
      "    C   D   E\n",
      "C  39  24  19\n",
      "B  48  29  16\n"
     ]
    }
   ],
   "source": [
    "print('df_17: \\n{}'.format(df_17))\n",
    "print('df_17.sort_index(ascending=False): \\n{}'.format(df_17.sort_index(ascending=False)))\n",
    "print(\"df_17.sort_value(by='D'): \\n{}\".format(df_17.sort_values(by='D')))"
   ]
  },
  {
   "cell_type": "markdown",
   "metadata": {},
   "source": [
    "Passing Data to Functions\n",
    "---"
   ]
  },
  {
   "cell_type": "code",
   "execution_count": 44,
   "metadata": {},
   "outputs": [
    {
     "name": "stdout",
     "output_type": "stream",
     "text": [
      "Total Profit: 5459.010000000001\n"
     ]
    }
   ],
   "source": [
    "import sys\n",
    "\n",
    "def get_profit_total(df: pd.DataFrame):\n",
    "    prof_ser = df['Profit']\n",
    "    print('Total Profit: {}'.format(prof_ser.sum()))\n",
    "\n",
    "get_profit_total(cs_df)"
   ]
  },
  {
   "cell_type": "code",
   "execution_count": 45,
   "metadata": {},
   "outputs": [],
   "source": [
    "def split_name(df):\n",
    "    def get_names(full_name):\n",
    "        f_name, l_name = full_name.split()\n",
    "        return pd.Series((f_name, l_name), index= ['First Name', 'Last Name'])\n",
    "    \n",
    "    names = df['Contact'].apply(get_names)\n",
    "    df[names.columns] = names\n",
    "    return df\n",
    "\n",
    "# split_name(cs_df) # single process"
   ]
  },
  {
   "cell_type": "code",
   "execution_count": 46,
   "metadata": {},
   "outputs": [],
   "source": [
    "def create_age_groups(df):\n",
    "    bins = [0, 30, 50, sys.maxsize]\n",
    "    labels = ['<30', '30~50', '>50']\n",
    "    age_group = pd.cut(df['Age'], bins=bins, labels=labels)\n",
    "    df['Age Group'] = age_group\n",
    "    return df\n",
    "\n",
    "# create_age_groups(cs_df) # single process"
   ]
  },
  {
   "cell_type": "code",
   "execution_count": 47,
   "metadata": {},
   "outputs": [
    {
     "data": {
      "text/html": [
       "<div>\n",
       "<style scoped>\n",
       "    .dataframe tbody tr th:only-of-type {\n",
       "        vertical-align: middle;\n",
       "    }\n",
       "\n",
       "    .dataframe tbody tr th {\n",
       "        vertical-align: top;\n",
       "    }\n",
       "\n",
       "    .dataframe thead th {\n",
       "        text-align: right;\n",
       "    }\n",
       "</style>\n",
       "<table border=\"1\" class=\"dataframe\">\n",
       "  <thead>\n",
       "    <tr style=\"text-align: right;\">\n",
       "      <th></th>\n",
       "      <th>Sale ID</th>\n",
       "      <th>Contact</th>\n",
       "      <th>Sex</th>\n",
       "      <th>Age</th>\n",
       "      <th>State</th>\n",
       "      <th>Product ID</th>\n",
       "      <th>Product Type</th>\n",
       "      <th>Sale Price</th>\n",
       "      <th>Profit</th>\n",
       "      <th>Lead</th>\n",
       "      <th>Month</th>\n",
       "      <th>Year</th>\n",
       "      <th>First Name</th>\n",
       "      <th>Last Name</th>\n",
       "      <th>Age Group</th>\n",
       "    </tr>\n",
       "  </thead>\n",
       "  <tbody>\n",
       "    <tr>\n",
       "      <th>0</th>\n",
       "      <td>1</td>\n",
       "      <td>Paul Thomas</td>\n",
       "      <td>M</td>\n",
       "      <td>43</td>\n",
       "      <td>OH</td>\n",
       "      <td>M01-F0024</td>\n",
       "      <td>Desktop</td>\n",
       "      <td>479.99</td>\n",
       "      <td>143.39</td>\n",
       "      <td>Website</td>\n",
       "      <td>January</td>\n",
       "      <td>2018</td>\n",
       "      <td>Paul</td>\n",
       "      <td>Thomas</td>\n",
       "      <td>30~50</td>\n",
       "    </tr>\n",
       "    <tr>\n",
       "      <th>1</th>\n",
       "      <td>2</td>\n",
       "      <td>Margo Simms</td>\n",
       "      <td>F</td>\n",
       "      <td>37</td>\n",
       "      <td>WV</td>\n",
       "      <td>GT13-0024</td>\n",
       "      <td>Desktop</td>\n",
       "      <td>1249.99</td>\n",
       "      <td>230.89</td>\n",
       "      <td>Flyer 4</td>\n",
       "      <td>January</td>\n",
       "      <td>2018</td>\n",
       "      <td>Margo</td>\n",
       "      <td>Simms</td>\n",
       "      <td>30~50</td>\n",
       "    </tr>\n",
       "    <tr>\n",
       "      <th>2</th>\n",
       "      <td>3</td>\n",
       "      <td>Sam Stine</td>\n",
       "      <td>M</td>\n",
       "      <td>26</td>\n",
       "      <td>PA</td>\n",
       "      <td>I3670</td>\n",
       "      <td>Desktop</td>\n",
       "      <td>649.99</td>\n",
       "      <td>118.64</td>\n",
       "      <td>Website</td>\n",
       "      <td>February</td>\n",
       "      <td>2018</td>\n",
       "      <td>Sam</td>\n",
       "      <td>Stine</td>\n",
       "      <td>&lt;30</td>\n",
       "    </tr>\n",
       "    <tr>\n",
       "      <th>3</th>\n",
       "      <td>4</td>\n",
       "      <td>Moe Eggert</td>\n",
       "      <td>M</td>\n",
       "      <td>35</td>\n",
       "      <td>PA</td>\n",
       "      <td>I3593</td>\n",
       "      <td>Laptop</td>\n",
       "      <td>399.99</td>\n",
       "      <td>72.09</td>\n",
       "      <td>Website</td>\n",
       "      <td>March</td>\n",
       "      <td>2018</td>\n",
       "      <td>Moe</td>\n",
       "      <td>Eggert</td>\n",
       "      <td>30~50</td>\n",
       "    </tr>\n",
       "    <tr>\n",
       "      <th>4</th>\n",
       "      <td>5</td>\n",
       "      <td>Jessica Elk</td>\n",
       "      <td>F</td>\n",
       "      <td>55</td>\n",
       "      <td>PA</td>\n",
       "      <td>15M-ED</td>\n",
       "      <td>Laptop</td>\n",
       "      <td>699.99</td>\n",
       "      <td>98.09</td>\n",
       "      <td>Flyer 4</td>\n",
       "      <td>March</td>\n",
       "      <td>2018</td>\n",
       "      <td>Jessica</td>\n",
       "      <td>Elk</td>\n",
       "      <td>&gt;50</td>\n",
       "    </tr>\n",
       "  </tbody>\n",
       "</table>\n",
       "</div>"
      ],
      "text/plain": [
       "   Sale ID      Contact Sex  Age State Product ID Product Type  Sale Price  Profit     Lead     Month  Year First Name Last Name Age Group\n",
       "0        1  Paul Thomas   M   43    OH  M01-F0024      Desktop      479.99  143.39  Website   January  2018       Paul    Thomas     30~50\n",
       "1        2  Margo Simms   F   37    WV  GT13-0024      Desktop     1249.99  230.89  Flyer 4   January  2018      Margo     Simms     30~50\n",
       "2        3    Sam Stine   M   26    PA      I3670      Desktop      649.99  118.64  Website  February  2018        Sam     Stine       <30\n",
       "3        4   Moe Eggert   M   35    PA      I3593       Laptop      399.99   72.09  Website     March  2018        Moe    Eggert     30~50\n",
       "4        5  Jessica Elk   F   55    PA     15M-ED       Laptop      699.99   98.09  Flyer 4     March  2018    Jessica       Elk       >50"
      ]
     },
     "execution_count": 47,
     "metadata": {},
     "output_type": "execute_result"
    }
   ],
   "source": [
    "cs_df.pipe(split_name).pipe(create_age_groups).head() # multiply process"
   ]
  },
  {
   "cell_type": "markdown",
   "metadata": {},
   "source": [
    "Aligning, Reindexing & Renameing Labels\n",
    "---"
   ]
  },
  {
   "cell_type": "code",
   "execution_count": 48,
   "metadata": {},
   "outputs": [
    {
     "name": "stdout",
     "output_type": "stream",
     "text": [
      "s1_1: \n",
      "a    0\n",
      "b    1\n",
      "c    2\n",
      "d    3\n",
      "dtype: int64\n",
      "s1_2: \n",
      "b    1\n",
      "c    2\n",
      "d    3\n",
      "e    4\n",
      "dtype: int64\n",
      "s1_1.align(s1_2, join='inner'): \n",
      "(b    1\n",
      "c    2\n",
      "d    3\n",
      "dtype: int64, b    1\n",
      "c    2\n",
      "d    3\n",
      "dtype: int64)\n"
     ]
    }
   ],
   "source": [
    "ser_6 = pd.Series(range(5), index=['a','b','c','d','e'])\n",
    "s1_1 = ser_6[:4]\n",
    "s1_2 = ser_6[1:]\n",
    "print('s1_1: \\n{}'.format(s1_1))\n",
    "print('s1_2: \\n{}'.format(s1_2))\n",
    "print(\"s1_1.align(s1_2, join='inner'): \\n{}\".format(s1_1.align(s1_2, join='inner')))"
   ]
  },
  {
   "cell_type": "code",
   "execution_count": 49,
   "metadata": {},
   "outputs": [
    {
     "name": "stdout",
     "output_type": "stream",
     "text": [
      "df_18: \n",
      "    C   D   E\n",
      "A  17  12  14\n",
      "B  43  13  41\n",
      "df_19: \n",
      "    C   D   E\n",
      "B  18  43  42\n",
      "C  20  43  28\n",
      "df_18.align(df_19): \n",
      "(      C     D     E\n",
      "A  17.0  12.0  14.0\n",
      "B  43.0  13.0  41.0\n",
      "C   NaN   NaN   NaN,       C     D     E\n",
      "A   NaN   NaN   NaN\n",
      "B  18.0  43.0  42.0\n",
      "C  20.0  43.0  28.0)\n"
     ]
    }
   ],
   "source": [
    "array_6 = np.random.randint(10, 50, size=(2,3))\n",
    "df_18 = pd.DataFrame(array_6, ['A', 'B'], ['C', 'D', 'E'])\n",
    "array_7 = np.random.randint(10, 50, size=(2,3))\n",
    "df_19 = pd.DataFrame(array_7, ['B', 'C'], ['C', 'D', 'E'])\n",
    "print('df_18: \\n{}'.format(df_18))\n",
    "print('df_19: \\n{}'.format(df_19))\n",
    "print('df_18.align(df_19): \\n{}'.format(df_18.align(df_19)))"
   ]
  },
  {
   "cell_type": "code",
   "execution_count": 50,
   "metadata": {},
   "outputs": [
    {
     "name": "stdout",
     "output_type": "stream",
     "text": [
      "df_18.reindex(['B','A']): \n",
      "    C   D   E\n",
      "B  43  13  41\n",
      "A  17  12  14\n",
      "df_18.drop(['A'], axis=0): \n",
      "    C   D   E\n",
      "B  43  13  41\n",
      "df_18.drop(['D'], axis=1): \n",
      "    C   E\n",
      "A  17  14\n",
      "B  43  41\n",
      "df_18.rename(columns={'C':'Men', 'D':'Women', 'E':'Pets'}): \n",
      "    Men  Women  Pets\n",
      "A   17     12    14\n",
      "B   43     13    41\n"
     ]
    }
   ],
   "source": [
    "print(\"df_18.reindex(['B','A']): \\n{}\".format(df_18.reindex(['B', 'A'])))\n",
    "print(\"df_18.drop(['A'], axis=0): \\n{}\".format(df_18.drop(['A'], axis=0)))\n",
    "print(\"df_18.drop(['D'], axis=1): \\n{}\".format(df_18.drop(['D'], axis=1)))\n",
    "print(\"df_18.rename(columns={'C':'Men', 'D':'Women', 'E':'Pets'}): \\n\", df_18.rename(columns={'C':'Men', 'D':'Women', 'E':'Pets'}))"
   ]
  },
  {
   "cell_type": "code",
   "execution_count": 51,
   "metadata": {},
   "outputs": [
    {
     "name": "stdout",
     "output_type": "stream",
     "text": [
      "ser_6: \n",
      "a    0\n",
      "b    1\n",
      "c    2\n",
      "d    3\n",
      "e    4\n",
      "dtype: int64\n",
      "ser_6.reindex(['c','b','a']): \n",
      "c    2\n",
      "b    1\n",
      "a    0\n",
      "dtype: int64\n"
     ]
    }
   ],
   "source": [
    "print('ser_6: \\n{}'.format(ser_6))\n",
    "print(\"ser_6.reindex(['c','b','a']): \\n{}\".format(ser_6.reindex(['c','b','a'])))"
   ]
  },
  {
   "cell_type": "markdown",
   "metadata": {},
   "source": [
    "MultiIndex\n",
    "---"
   ]
  },
  {
   "cell_type": "code",
   "execution_count": 52,
   "metadata": {},
   "outputs": [
    {
     "name": "stdout",
     "output_type": "stream",
     "text": [
      "hier_index: [('Day 1', 1), ('Day 1', 2), ('Day 1', 3), ('Day 2', 1), ('Day 2', 2), ('Day 2', 3)]\n",
      "df_20: \n",
      "           M    F\n",
      "Day 1 1  654  504\n",
      "      2  621  559\n",
      "      3  546  558\n",
      "Day 2 1  667  667\n",
      "      2  547  640\n",
      "      3  613  638\n"
     ]
    }
   ],
   "source": [
    "days = ['Day 1', 'Day 1', 'Day 1', 'Day 2', 'Day 2', 'Day 2']\n",
    "meals = [1,2,3,1,2,3]\n",
    "hier_index = list(zip(days,meals))\n",
    "print('hier_index: {}'.format(hier_index))\n",
    "hier_index_ = pd.MultiIndex.from_tuples(hier_index)\n",
    "array_8 = np.random.randint(500, 700, size=(6,2))\n",
    "df_20 = pd.DataFrame(array_8, index=hier_index_, columns=['M', 'F'])\n",
    "print('df_20: \\n{}'.format(df_20))"
   ]
  },
  {
   "cell_type": "code",
   "execution_count": 53,
   "metadata": {},
   "outputs": [
    {
     "name": "stdout",
     "output_type": "stream",
     "text": [
      "df_20.loc['Day 1']: \n",
      "     M    F\n",
      "1  654  504\n",
      "2  621  559\n",
      "3  546  558\n",
      "df_20.loc['Day 1'].loc[1]: \n",
      "M    654\n",
      "F    504\n",
      "Name: 1, dtype: int64\n",
      "df_20.loc['Day 1'].loc[1]['F']: 504\n"
     ]
    }
   ],
   "source": [
    "print(\"df_20.loc['Day 1']: \\n{}\".format(df_20.loc['Day 1']))\n",
    "print(\"df_20.loc['Day 1'].loc[1]: \\n{}\".format(df_20.loc['Day 1'].loc[1]))\n",
    "print(\"df_20.loc['Day 1'].loc[1]['F']: {}\".format(df_20.loc['Day 1'].loc[1]['F']))"
   ]
  },
  {
   "cell_type": "code",
   "execution_count": 54,
   "metadata": {},
   "outputs": [
    {
     "name": "stdout",
     "output_type": "stream",
     "text": [
      "df_20: \n",
      "              M    F\n",
      "Day   Meal          \n",
      "Day 1 1     654  504\n",
      "      2     621  559\n",
      "      3     546  558\n",
      "Day 2 1     667  667\n",
      "      2     547  640\n",
      "      3     613  638\n",
      "df_20.xs('Day 2'): \n",
      "        M    F\n",
      "Meal          \n",
      "1     667  667\n",
      "2     547  640\n",
      "3     613  638\n",
      "df_20.xs(1, level='Meal'): \n",
      "         M    F\n",
      "Day            \n",
      "Day 1  654  504\n",
      "Day 2  667  667\n"
     ]
    }
   ],
   "source": [
    "df_20.index.names = ['Day', 'Meal']\n",
    "print('df_20: \\n{}'.format(df_20))\n",
    "print(\"df_20.xs('Day 2'): \\n{}\".format(df_20.xs('Day 2')))\n",
    "print(\"df_20.xs(1, level='Meal'): \\n{}\".format(df_20.xs(1, level='Meal')))"
   ]
  },
  {
   "cell_type": "code",
   "execution_count": 55,
   "metadata": {},
   "outputs": [
    {
     "name": "stdout",
     "output_type": "stream",
     "text": [
      "df_21.pivot_table(values='D', index=['A','B'], columns=['C']):  C          F    M\n",
      "A     B          \n",
      "Day 1 1  NaN  1.0\n",
      "      2  2.0  NaN\n",
      "      3  NaN  3.0\n",
      "Day 2 1  4.0  NaN\n",
      "      2  NaN  5.0\n",
      "      3  6.0  NaN\n"
     ]
    }
   ],
   "source": [
    "dict_6 = {'A': ['Day 1','Day 1','Day 1','Day 2','Day 2','Day 2'], 'B': [1,2,3,1,2,3], 'C': ['M','F','M','F','M','F'], 'D': [1,2,3,4,5,6]}\n",
    "df_21 = pd.DataFrame(dict_6)\n",
    "print(\"df_21.pivot_table(values='D', index=['A','B'], columns=['C']): \", df_21.pivot_table(values='D', index=['A','B'], columns=['C']))"
   ]
  },
  {
   "cell_type": "markdown",
   "metadata": {},
   "source": [
    "Handling Missing Data\n",
    "---"
   ]
  },
  {
   "cell_type": "code",
   "execution_count": 56,
   "metadata": {},
   "outputs": [
    {
     "name": "stdout",
     "output_type": "stream",
     "text": [
      "df_22: \n",
      "     A    B    C\n",
      "0  1.0  4.0  7.0\n",
      "1  2.0  NaN  8.0\n",
      "2  NaN  NaN  9.0\n"
     ]
    }
   ],
   "source": [
    "dict_7 = {'A': [1,2,np.nan], 'B': [4,np.nan,np.nan], 'C': [7.,8.,9.]}\n",
    "df_22 = pd.DataFrame(dict_7)\n",
    "print('df_22: \\n{}'.format(df_22))"
   ]
  },
  {
   "cell_type": "code",
   "execution_count": 57,
   "metadata": {},
   "outputs": [
    {
     "name": "stdout",
     "output_type": "stream",
     "text": [
      "df_22.dropna(): \n",
      "     A    B    C\n",
      "0  1.0  4.0  7.0\n",
      "df_22.dropna(thresh=2): \n",
      "     A    B    C\n",
      "0  1.0  4.0  7.0\n",
      "1  2.0  NaN  8.0\n",
      "df_22.dropna(axis=1): \n",
      "     C\n",
      "0  7.0\n",
      "1  8.0\n",
      "2  9.0\n"
     ]
    }
   ],
   "source": [
    "print('df_22.dropna(): \\n{}'.format(df_22.dropna()))\n",
    "print('df_22.dropna(thresh=2): \\n{}'.format(df_22.dropna(thresh=2)))\n",
    "print('df_22.dropna(axis=1): \\n{}'.format(df_22.dropna(axis=1)))"
   ]
  },
  {
   "cell_type": "code",
   "execution_count": 58,
   "metadata": {},
   "outputs": [
    {
     "name": "stdout",
     "output_type": "stream",
     "text": [
      "df_22.fillna(value=0.): \n",
      "     A    B    C\n",
      "0  1.0  4.0  7.0\n",
      "1  2.0  0.0  8.0\n",
      "2  0.0  0.0  9.0\n",
      "df_22.fillna(value=df_22['A'].mean()): \n",
      "     A    B    C\n",
      "0  1.0  4.0  7.0\n",
      "1  2.0  1.5  8.0\n",
      "2  1.5  1.5  9.0\n",
      "df_22.fillna(method='ffill'): \n",
      "     A    B    C\n",
      "0  1.0  4.0  7.0\n",
      "1  2.0  4.0  8.0\n",
      "2  2.0  4.0  9.0\n"
     ]
    }
   ],
   "source": [
    "print('df_22.fillna(value=0.): \\n{}'.format(df_22.fillna(value=0.)))\n",
    "print(\"df_22.fillna(value=df_22['A'].mean()): \\n{}\".format(df_22.fillna(value=df_22['A'].mean())))\n",
    "print(\"df_22.fillna(method='ffill'): \\n{}\".format(df_22.fillna(method='ffill')))"
   ]
  },
  {
   "cell_type": "markdown",
   "metadata": {},
   "source": [
    "Experimenting with Data\n",
    "---"
   ]
  },
  {
   "cell_type": "code",
   "execution_count": 59,
   "metadata": {},
   "outputs": [
    {
     "name": "stdout",
     "output_type": "stream",
     "text": [
      "cs_df.columns: Index(['Sale ID', 'Contact', 'Sex', 'Age', 'State', 'Product ID', 'Product Type', 'Sale Price', 'Profit', 'Lead', 'Month', 'Year', 'First Name', 'Last Name', 'Age Group'], dtype='object')\n",
      "cs_df['Profit'].mean(): 139.97461538461542\n",
      "cs_df[['Product ID', 'Profit']].max(axis=0): \n",
      "Product ID    Q526FA\n",
      "Profit        230.89\n",
      "dtype: object\n",
      "cs_df[cs_df['State']=='WV']['State'].count(): 4\n",
      "len(cs_df[cs_df['Year']==2019].index): 14\n"
     ]
    }
   ],
   "source": [
    "print('cs_df.columns: {}'.format(cs_df.columns))\n",
    "print(\"cs_df['Profit'].mean(): {}\".format(cs_df['Profit'].mean()))\n",
    "print(\"cs_df[['Product ID', 'Profit']].max(axis=0): \\n{}\".format(cs_df[['Product ID', 'Profit']].max(axis=0)))\n",
    "print(\"cs_df[cs_df['State']=='WV']['State'].count(): {}\".format(cs_df[cs_df['State']=='WV']['State'].count()))\n",
    "print(\"len(cs_df[cs_df['Year']==2019].index): {}\".format(len(cs_df[cs_df['Year']==2019].index)))"
   ]
  },
  {
   "cell_type": "code",
   "execution_count": 60,
   "metadata": {},
   "outputs": [
    {
     "name": "stdout",
     "output_type": "stream",
     "text": [
      "cs_df['Product ID'].value_counts(): \n",
      "GA401IV      6\n",
      "M01-F0024    5\n",
      "I3593        5\n",
      "81TC00       5\n",
      "GT13-0024    4\n",
      "15M-ED       4\n",
      "MY2J2LL      4\n",
      "I3670        3\n",
      "Q526FA       3\n",
      "Name: Product ID, dtype: int64\n",
      "cs_df[cs_df['Product ID']=='M01-F0024']['Contact']: \n",
      "0     Paul Thomas\n",
      "9      Phil Jones\n",
      "20     Jason Case\n",
      "29     Phil Jones\n",
      "36     Jason Case\n",
      "Name: Contact, dtype: object\n",
      "cs_df[(cs_df['Lead']=='Website') & (cs_df['Profit']>150)]['Lead'].count(): 2\n",
      "cs_df['Profit'].apply(lambda cents: str(cents).split('.')[1]=='89').value_counts(): \n",
      "False    35\n",
      "True      4\n",
      "Name: Profit, dtype: int64\n"
     ]
    }
   ],
   "source": [
    "print(\"cs_df['Product ID'].value_counts(): \\n{}\".format(cs_df['Product ID'].value_counts()))\n",
    "print(\"cs_df[cs_df['Product ID']=='M01-F0024']['Contact']: \\n{}\".format(cs_df[cs_df['Product ID']=='M01-F0024']['Contact']))\n",
    "print(\"cs_df[(cs_df['Lead']=='Website') & (cs_df['Profit']>150)]['Lead'].count(): {}\".format(cs_df[(cs_df['Lead']=='Website') & (cs_df['Profit']>150)]['Lead'].count()))\n",
    "print(\"cs_df['Profit'].apply(lambda cents: str(cents).split('.')[1]=='89').value_counts(): \\n{}\".format(\n",
    "    cs_df['Profit'].apply(lambda cents: str(cents).split('.')[1]=='89').value_counts()))"
   ]
  },
  {
   "cell_type": "markdown",
   "metadata": {},
   "source": [
    "Visualization\n",
    "---"
   ]
  },
  {
   "cell_type": "code",
   "execution_count": 61,
   "metadata": {},
   "outputs": [],
   "source": [
    "import matplotlib.pyplot as plt\n",
    "%matplotlib inline"
   ]
  },
  {
   "cell_type": "code",
   "execution_count": 62,
   "metadata": {},
   "outputs": [
    {
     "data": {
      "image/png": "[encoded data removed]",
      "text/plain": [
       "<Figure size 640x480 with 1 Axes>"
      ]
     },
     "metadata": {},
     "output_type": "display_data"
    }
   ],
   "source": [
    "df_dice = pd.DataFrame(\n",
    "    np.random.randint(1, 7, 5000),\n",
    "    columns= ['Hist'])\n",
    "df_dice['Odds'] = df_dice['Hist'] + np.random.randint(1,7,5000)\n",
    "ax = df_dice.plot.hist(bins=12, alpha=0.5)"
   ]
  },
  {
   "cell_type": "code",
   "execution_count": 63,
   "metadata": {},
   "outputs": [
    {
     "data": {
      "text/plain": [
       "<AxesSubplot: >"
      ]
     },
     "execution_count": 63,
     "metadata": {},
     "output_type": "execute_result"
    },
    {
     "data": {
      "image/png": "[encoded data removed]",
      "text/plain": [
       "<Figure size 640x480 with 1 Axes>"
      ]
     },
     "metadata": {},
     "output_type": "display_data"
    }
   ],
   "source": [
    "ser_7 = pd.Series(np.random.randn(1000), index=pd.date_range('11/15/2017', periods=1000))\n",
    "ser_7 = ser_7.cumsum()\n",
    "ser_7.plot()"
   ]
  },
  {
   "cell_type": "code",
   "execution_count": 64,
   "metadata": {},
   "outputs": [
    {
     "data": {
      "text/plain": [
       "<AxesSubplot: >"
      ]
     },
     "execution_count": 64,
     "metadata": {},
     "output_type": "execute_result"
    },
    {
     "data": {
      "image/png": "[encoded data removed]",
      "text/plain": [
       "<Figure size 640x480 with 1 Axes>"
      ]
     },
     "metadata": {},
     "output_type": "display_data"
    }
   ],
   "source": [
    "df_23 = pd.DataFrame(np.random.randn(1000, 3), index=pd.date_range('11/15/2017', periods=1000), columns=list('ABC'))\n",
    "df_23 = df_23.cumsum()\n",
    "df_23.plot()"
   ]
  },
  {
   "cell_type": "code",
   "execution_count": 65,
   "metadata": {},
   "outputs": [
    {
     "data": {
      "text/plain": [
       "<AxesSubplot: >"
      ]
     },
     "execution_count": 65,
     "metadata": {},
     "output_type": "execute_result"
    },
    {
     "data": {
      "image/png": "[encoded data removed]",
      "text/plain": [
       "<Figure size 640x480 with 1 Axes>"
      ]
     },
     "metadata": {},
     "output_type": "display_data"
    }
   ],
   "source": [
    "pd.DataFrame(np.random.randn(5)).plot.bar()"
   ]
  },
  {
   "cell_type": "code",
   "execution_count": 66,
   "metadata": {},
   "outputs": [
    {
     "data": {
      "text/plain": [
       "<AxesSubplot: >"
      ]
     },
     "execution_count": 66,
     "metadata": {},
     "output_type": "execute_result"
    },
    {
     "data": {
      "image/png": "[encoded data removed]",
      "text/plain": [
       "<Figure size 640x480 with 1 Axes>"
      ]
     },
     "metadata": {},
     "output_type": "display_data"
    }
   ],
   "source": [
    "vals = ['A', 'B', 'C', 'D']\n",
    "df_24 = pd.DataFrame(np.random.rand(10,4), columns = vals)\n",
    "df_24.plot.bar()"
   ]
  },
  {
   "cell_type": "code",
   "execution_count": 67,
   "metadata": {},
   "outputs": [
    {
     "data": {
      "image/png": "[encoded data removed]",
      "text/plain": [
       "<Figure size 640x480 with 1 Axes>"
      ]
     },
     "metadata": {},
     "output_type": "display_data"
    }
   ],
   "source": [
    "x_rng = range(1,15)\n",
    "y_vals = [1,5,4,7,6,9,5,7,10,14,10,12,9,8]\n",
    "plt.fill_between(x_rng, y_vals, color = \"skyblue\", alpha = 0.5)\n",
    "plt.show()"
   ]
  },
  {
   "cell_type": "code",
   "execution_count": 68,
   "metadata": {},
   "outputs": [
    {
     "data": {
      "text/plain": [
       "<AxesSubplot: >"
      ]
     },
     "execution_count": 68,
     "metadata": {},
     "output_type": "execute_result"
    },
    {
     "data": {
      "image/png": "[encoded data removed]",
      "text/plain": [
       "<Figure size 640x480 with 1 Axes>"
      ]
     },
     "metadata": {},
     "output_type": "display_data"
    }
   ],
   "source": [
    "pd.DataFrame(np.random.rand(10, 3), columns=['A', 'B', 'C']).plot.area()"
   ]
  },
  {
   "cell_type": "code",
   "execution_count": 69,
   "metadata": {},
   "outputs": [
    {
     "data": {
      "text/plain": [
       "<AxesSubplot: xlabel='A', ylabel='B'>"
      ]
     },
     "execution_count": 69,
     "metadata": {},
     "output_type": "execute_result"
    },
    {
     "data": {
      "image/png": "[encoded data removed]",
      "text/plain": [
       "<Figure size 640x480 with 1 Axes>"
      ]
     },
     "metadata": {},
     "output_type": "display_data"
    }
   ],
   "source": [
    "pd.DataFrame(np.random.rand(100, 2), columns=['A', 'B']).plot.scatter(x='A', y='B')"
   ]
  },
  {
   "cell_type": "code",
   "execution_count": 70,
   "metadata": {},
   "outputs": [
    {
     "data": {
      "text/plain": [
       "<AxesSubplot: xlabel='C', ylabel='D'>"
      ]
     },
     "execution_count": 70,
     "metadata": {},
     "output_type": "execute_result"
    },
    {
     "data": {
      "image/png": "[encoded data removed]",
      "text/plain": [
       "<Figure size 640x480 with 1 Axes>"
      ]
     },
     "metadata": {},
     "output_type": "display_data"
    }
   ],
   "source": [
    "df_25 = pd.DataFrame(np.random.rand(50, 4), columns=['A', 'B', 'C', 'D'])\n",
    "ax = df_25.plot.scatter(x='A', y='B', color='DarkBlue', label='Grp 1')\n",
    "df_25.plot.scatter(x='C', y='D', color='Orange', label='Grp 2', ax=ax)"
   ]
  },
  {
   "cell_type": "code",
   "execution_count": 71,
   "metadata": {},
   "outputs": [
    {
     "data": {
      "text/plain": [
       "<AxesSubplot: ylabel='Pie'>"
      ]
     },
     "execution_count": 71,
     "metadata": {},
     "output_type": "execute_result"
    },
    {
     "data": {
      "image/png": "[encoded data removed]",
      "text/plain": [
       "<Figure size 600x600 with 1 Axes>"
      ]
     },
     "metadata": {},
     "output_type": "display_data"
    }
   ],
   "source": [
    "pd.Series(np.random.rand(4), index=['a','b','c','d'], name='Pie').plot.pie(figsize=(6,6))"
   ]
  },
  {
   "cell_type": "code",
   "execution_count": null,
   "metadata": {},
   "outputs": [],
   "source": []
  }
 ],
 "metadata": {
  "kernelspec": {
   "display_name": "Python 3.10.6 ('base')",
   "language": "python",
   "name": "python3"
  },
  "language_info": {
   "codemirror_mode": {
    "name": "ipython",
    "version": 3
   },
   "file_extension": ".py",
   "mimetype": "text/x-python",
   "name": "python",
   "nbconvert_exporter": "python",
   "pygments_lexer": "ipython3",
   "version": "3.10.6"
  },
  "orig_nbformat": 4,
  "vscode": {
   "interpreter": {
    "hash": "c6e4e9f98eb68ad3b7c296f83d20e6de614cb42e90992a65aa266555a3137d0d"
   }
  }
 },
 "nbformat": 4,
 "nbformat_minor": 2
}
